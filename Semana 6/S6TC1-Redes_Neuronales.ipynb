{
  "cells": [
    {
      "cell_type": "markdown",
      "metadata": {
        "id": "FopFZMqkWCuN"
      },
      "source": [
        "![image info](https://raw.githubusercontent.com/albahnsen/MIAD_ML_and_NLP/main/images/banner_1.png)"
      ]
    },
    {
      "cell_type": "markdown",
      "metadata": {
        "id": "8_qB2v2uWCuP"
      },
      "source": [
        "# Taller: Redes Neuronales\n",
        "\n",
        "En este taller podrán poner en práctica sus conocimientos sobre la construcción e implementación de redes neuronales de una capa y multicapa. El taller está constituido por 4 puntos, en los cuales deberan seguir las intrucciones de cada numeral para su desarrollo."
      ]
    },
    {
      "cell_type": "markdown",
      "metadata": {
        "id": "wL7P7_csWCuQ"
      },
      "source": [
        "## Datos predicción probabilidad de admisión a la universidad\n",
        "\n",
        "En este taller se usará el conjunto de datos de admisiones a una universidad proveniente de la base de datos de Kaggle. Cada observación contiene la probabilidad de que un estudiante sea admitido por la universidad, dadas distintas variables predictoras como el puntaje del examén TOEFL y GRE, el promedio (GPA), entre otras. El objetivo es predecir la probabilidad de admissión de cada estudiante. Para más detalles pueden visitar el siguiente enlace: [datos](https://www.kaggle.com/mohansacharya/graduate-admissions)."
      ]
    },
    {
      "cell_type": "code",
      "execution_count": 225,
      "metadata": {
        "id": "zbNpS7XgWCuQ"
      },
      "outputs": [],
      "source": [
        "import warnings\n",
        "warnings.filterwarnings('ignore')"
      ]
    },
    {
      "cell_type": "code",
      "execution_count": 251,
      "metadata": {
        "id": "2QQmv1-dWCuR"
      },
      "outputs": [],
      "source": [
        "# Importación librerías\n",
        "import numpy as np\n",
        "import keras \n",
        "import pandas as pd\n",
        "import matplotlib.pyplot as plt\n",
        "%matplotlib inline\n",
        "\n",
        "from sklearn.model_selection import train_test_split\n",
        "from keras import initializers\n",
        "from keras import optimizers\n",
        "from keras.models import Sequential\n",
        "from keras.layers import Dense\n",
        "from keras.layers import Dropout"
      ]
    },
    {
      "cell_type": "code",
      "execution_count": 236,
      "metadata": {
        "id": "nskx7l-9WCuR",
        "outputId": "aeab5e18-db8e-4f9d-cccd-835b41c9580e",
        "colab": {
          "base_uri": "https://localhost:8080/",
          "height": 235
        }
      },
      "outputs": [
        {
          "output_type": "execute_result",
          "data": {
            "text/plain": [
              "            GRE Score  TOEFL Score  University Rating  SOP  LOR   CGPA  \\\n",
              "Serial No.                                                               \n",
              "1                 337          118                  4  4.5   4.5  9.65   \n",
              "2                 324          107                  4  4.0   4.5  8.87   \n",
              "3                 316          104                  3  3.0   3.5  8.00   \n",
              "4                 322          110                  3  3.5   2.5  8.67   \n",
              "5                 314          103                  2  2.0   3.0  8.21   \n",
              "\n",
              "            Research  Chance of Admit   \n",
              "Serial No.                              \n",
              "1                  1              0.92  \n",
              "2                  1              0.76  \n",
              "3                  1              0.72  \n",
              "4                  1              0.80  \n",
              "5                  0              0.65  "
            ],
            "text/html": [
              "\n",
              "  <div id=\"df-eb4196f3-22bc-40ca-acd3-c806010a1064\">\n",
              "    <div class=\"colab-df-container\">\n",
              "      <div>\n",
              "<style scoped>\n",
              "    .dataframe tbody tr th:only-of-type {\n",
              "        vertical-align: middle;\n",
              "    }\n",
              "\n",
              "    .dataframe tbody tr th {\n",
              "        vertical-align: top;\n",
              "    }\n",
              "\n",
              "    .dataframe thead th {\n",
              "        text-align: right;\n",
              "    }\n",
              "</style>\n",
              "<table border=\"1\" class=\"dataframe\">\n",
              "  <thead>\n",
              "    <tr style=\"text-align: right;\">\n",
              "      <th></th>\n",
              "      <th>GRE Score</th>\n",
              "      <th>TOEFL Score</th>\n",
              "      <th>University Rating</th>\n",
              "      <th>SOP</th>\n",
              "      <th>LOR</th>\n",
              "      <th>CGPA</th>\n",
              "      <th>Research</th>\n",
              "      <th>Chance of Admit</th>\n",
              "    </tr>\n",
              "    <tr>\n",
              "      <th>Serial No.</th>\n",
              "      <th></th>\n",
              "      <th></th>\n",
              "      <th></th>\n",
              "      <th></th>\n",
              "      <th></th>\n",
              "      <th></th>\n",
              "      <th></th>\n",
              "      <th></th>\n",
              "    </tr>\n",
              "  </thead>\n",
              "  <tbody>\n",
              "    <tr>\n",
              "      <th>1</th>\n",
              "      <td>337</td>\n",
              "      <td>118</td>\n",
              "      <td>4</td>\n",
              "      <td>4.5</td>\n",
              "      <td>4.5</td>\n",
              "      <td>9.65</td>\n",
              "      <td>1</td>\n",
              "      <td>0.92</td>\n",
              "    </tr>\n",
              "    <tr>\n",
              "      <th>2</th>\n",
              "      <td>324</td>\n",
              "      <td>107</td>\n",
              "      <td>4</td>\n",
              "      <td>4.0</td>\n",
              "      <td>4.5</td>\n",
              "      <td>8.87</td>\n",
              "      <td>1</td>\n",
              "      <td>0.76</td>\n",
              "    </tr>\n",
              "    <tr>\n",
              "      <th>3</th>\n",
              "      <td>316</td>\n",
              "      <td>104</td>\n",
              "      <td>3</td>\n",
              "      <td>3.0</td>\n",
              "      <td>3.5</td>\n",
              "      <td>8.00</td>\n",
              "      <td>1</td>\n",
              "      <td>0.72</td>\n",
              "    </tr>\n",
              "    <tr>\n",
              "      <th>4</th>\n",
              "      <td>322</td>\n",
              "      <td>110</td>\n",
              "      <td>3</td>\n",
              "      <td>3.5</td>\n",
              "      <td>2.5</td>\n",
              "      <td>8.67</td>\n",
              "      <td>1</td>\n",
              "      <td>0.80</td>\n",
              "    </tr>\n",
              "    <tr>\n",
              "      <th>5</th>\n",
              "      <td>314</td>\n",
              "      <td>103</td>\n",
              "      <td>2</td>\n",
              "      <td>2.0</td>\n",
              "      <td>3.0</td>\n",
              "      <td>8.21</td>\n",
              "      <td>0</td>\n",
              "      <td>0.65</td>\n",
              "    </tr>\n",
              "  </tbody>\n",
              "</table>\n",
              "</div>\n",
              "      <button class=\"colab-df-convert\" onclick=\"convertToInteractive('df-eb4196f3-22bc-40ca-acd3-c806010a1064')\"\n",
              "              title=\"Convert this dataframe to an interactive table.\"\n",
              "              style=\"display:none;\">\n",
              "        \n",
              "  <svg xmlns=\"http://www.w3.org/2000/svg\" height=\"24px\"viewBox=\"0 0 24 24\"\n",
              "       width=\"24px\">\n",
              "    <path d=\"M0 0h24v24H0V0z\" fill=\"none\"/>\n",
              "    <path d=\"M18.56 5.44l.94 2.06.94-2.06 2.06-.94-2.06-.94-.94-2.06-.94 2.06-2.06.94zm-11 1L8.5 8.5l.94-2.06 2.06-.94-2.06-.94L8.5 2.5l-.94 2.06-2.06.94zm10 10l.94 2.06.94-2.06 2.06-.94-2.06-.94-.94-2.06-.94 2.06-2.06.94z\"/><path d=\"M17.41 7.96l-1.37-1.37c-.4-.4-.92-.59-1.43-.59-.52 0-1.04.2-1.43.59L10.3 9.45l-7.72 7.72c-.78.78-.78 2.05 0 2.83L4 21.41c.39.39.9.59 1.41.59.51 0 1.02-.2 1.41-.59l7.78-7.78 2.81-2.81c.8-.78.8-2.07 0-2.86zM5.41 20L4 18.59l7.72-7.72 1.47 1.35L5.41 20z\"/>\n",
              "  </svg>\n",
              "      </button>\n",
              "      \n",
              "  <style>\n",
              "    .colab-df-container {\n",
              "      display:flex;\n",
              "      flex-wrap:wrap;\n",
              "      gap: 12px;\n",
              "    }\n",
              "\n",
              "    .colab-df-convert {\n",
              "      background-color: #E8F0FE;\n",
              "      border: none;\n",
              "      border-radius: 50%;\n",
              "      cursor: pointer;\n",
              "      display: none;\n",
              "      fill: #1967D2;\n",
              "      height: 32px;\n",
              "      padding: 0 0 0 0;\n",
              "      width: 32px;\n",
              "    }\n",
              "\n",
              "    .colab-df-convert:hover {\n",
              "      background-color: #E2EBFA;\n",
              "      box-shadow: 0px 1px 2px rgba(60, 64, 67, 0.3), 0px 1px 3px 1px rgba(60, 64, 67, 0.15);\n",
              "      fill: #174EA6;\n",
              "    }\n",
              "\n",
              "    [theme=dark] .colab-df-convert {\n",
              "      background-color: #3B4455;\n",
              "      fill: #D2E3FC;\n",
              "    }\n",
              "\n",
              "    [theme=dark] .colab-df-convert:hover {\n",
              "      background-color: #434B5C;\n",
              "      box-shadow: 0px 1px 3px 1px rgba(0, 0, 0, 0.15);\n",
              "      filter: drop-shadow(0px 1px 2px rgba(0, 0, 0, 0.3));\n",
              "      fill: #FFFFFF;\n",
              "    }\n",
              "  </style>\n",
              "\n",
              "      <script>\n",
              "        const buttonEl =\n",
              "          document.querySelector('#df-eb4196f3-22bc-40ca-acd3-c806010a1064 button.colab-df-convert');\n",
              "        buttonEl.style.display =\n",
              "          google.colab.kernel.accessAllowed ? 'block' : 'none';\n",
              "\n",
              "        async function convertToInteractive(key) {\n",
              "          const element = document.querySelector('#df-eb4196f3-22bc-40ca-acd3-c806010a1064');\n",
              "          const dataTable =\n",
              "            await google.colab.kernel.invokeFunction('convertToInteractive',\n",
              "                                                     [key], {});\n",
              "          if (!dataTable) return;\n",
              "\n",
              "          const docLinkHtml = 'Like what you see? Visit the ' +\n",
              "            '<a target=\"_blank\" href=https://colab.research.google.com/notebooks/data_table.ipynb>data table notebook</a>'\n",
              "            + ' to learn more about interactive tables.';\n",
              "          element.innerHTML = '';\n",
              "          dataTable['output_type'] = 'display_data';\n",
              "          await google.colab.output.renderOutput(dataTable, element);\n",
              "          const docLink = document.createElement('div');\n",
              "          docLink.innerHTML = docLinkHtml;\n",
              "          element.appendChild(docLink);\n",
              "        }\n",
              "      </script>\n",
              "    </div>\n",
              "  </div>\n",
              "  "
            ]
          },
          "metadata": {},
          "execution_count": 236
        }
      ],
      "source": [
        "# Carga de datos de archivo .csv\n",
        "data = pd.read_csv('https://raw.githubusercontent.com/albahnsen/MIAD_ML_and_NLP/main/datasets/universityGraduateAdmissions.csv', index_col=0)\n",
        "data.head()"
      ]
    },
    {
      "cell_type": "code",
      "source": [
        "data.columns"
      ],
      "metadata": {
        "id": "IQjoJuTpzHfe",
        "outputId": "cd2958ef-85e9-4fba-d483-93d200c6158c",
        "colab": {
          "base_uri": "https://localhost:8080/"
        }
      },
      "execution_count": 237,
      "outputs": [
        {
          "output_type": "execute_result",
          "data": {
            "text/plain": [
              "Index(['GRE Score', 'TOEFL Score', 'University Rating', 'SOP', 'LOR ', 'CGPA',\n",
              "       'Research', 'Chance of Admit '],\n",
              "      dtype='object')"
            ]
          },
          "metadata": {},
          "execution_count": 237
        }
      ]
    },
    {
      "cell_type": "code",
      "source": [
        "data.rename(columns = {'Chance of Admit ': 'Chance of Admit'}, inplace = True)\n",
        "data.rename(columns = {'LOR ': 'LOR'}, inplace = True)"
      ],
      "metadata": {
        "id": "sRTuoIadwhEw"
      },
      "execution_count": 230,
      "outputs": []
    },
    {
      "cell_type": "code",
      "source": [
        "data.columns = data.columns.str.strip()"
      ],
      "metadata": {
        "id": "rbuplraI01_Y"
      },
      "execution_count": 233,
      "outputs": []
    },
    {
      "cell_type": "code",
      "source": [
        "data.columns"
      ],
      "metadata": {
        "id": "nzfG6aQYxZwl",
        "outputId": "307d6d3c-8aa3-4ae3-9f12-62f6477c0a44",
        "colab": {
          "base_uri": "https://localhost:8080/"
        }
      },
      "execution_count": 234,
      "outputs": [
        {
          "output_type": "execute_result",
          "data": {
            "text/plain": [
              "Index(['GRE Score', 'TOEFL Score', 'University Rating', 'SOP', 'LOR', 'CGPA',\n",
              "       'Research', 'Chance of Admit'],\n",
              "      dtype='object')"
            ]
          },
          "metadata": {},
          "execution_count": 234
        }
      ]
    },
    {
      "cell_type": "code",
      "execution_count": 214,
      "metadata": {
        "id": "Yl2VbmRuWCuS",
        "outputId": "cbe5a4c1-7614-4daa-b6ce-493b092b61e1",
        "colab": {
          "base_uri": "https://localhost:8080/",
          "height": 1000
        }
      },
      "outputs": [
        {
          "output_type": "display_data",
          "data": {
            "text/plain": [
              "<Figure size 1500x1500 with 9 Axes>"
            ],
            "image/png": "[encoded data removed]"
          },
          "metadata": {}
        }
      ],
      "source": [
        "# Hitogramas de las varaibles del dataset\n",
        "data.hist(bins=25, figsize=(15,15))\n",
        "plt.show()"
      ]
    },
    {
      "cell_type": "code",
      "source": [
        "type(data)"
      ],
      "metadata": {
        "id": "CJh39xUyyrgj",
        "outputId": "28ac3a97-099e-49e3-e9b6-6cb8c7d4ffdf",
        "colab": {
          "base_uri": "https://localhost:8080/"
        }
      },
      "execution_count": 215,
      "outputs": [
        {
          "output_type": "execute_result",
          "data": {
            "text/plain": [
              "pandas.core.frame.DataFrame"
            ]
          },
          "metadata": {},
          "execution_count": 215
        }
      ]
    },
    {
      "cell_type": "code",
      "execution_count": 278,
      "metadata": {
        "id": "voHlRv8fWCuS"
      },
      "outputs": [],
      "source": [
        "# Definición de variables predictoras (X)\n",
        "X = data.drop(data.columns[-1], axis=1)\n",
        "# Definición de variable de interés (y)\n",
        "#y = data[data.columns[-1]]\n",
        "y = pd.DataFrame(np.array(data.iloc[:,-1]))"
      ]
    },
    {
      "cell_type": "code",
      "source": [
        "y"
      ],
      "metadata": {
        "id": "ptVgiVWVq_mI"
      },
      "execution_count": null,
      "outputs": []
    },
    {
      "cell_type": "code",
      "execution_count": 280,
      "metadata": {
        "id": "bFaWSf1lWCuS"
      },
      "outputs": [],
      "source": [
        "# Separación de variables predictoras (X) y variable de interés (y) en set de entrenamiento y test usandola función train_test_split\n",
        "XTrain, XTest, yTrain, yTest = train_test_split(X,y,test_size=0.3, random_state=22)"
      ]
    },
    {
      "cell_type": "markdown",
      "metadata": {
        "id": "qZyliDgNWCuS"
      },
      "source": [
        "## Punto 1 - Red Neuronal de una capa\n",
        "\n",
        "En la celda 1 creen una **red neuronal de una capa** con la librería Keras, que prediga la probabilidad de admisión de los estudiantes, usando los sets de entrenamiento y test definidos anteriormente. Pueden usar la función de perdida, el optimizador y el número de épocas que consideren pertinentes para el modelo, justificando su selección. Finalmente, grafiquen la pérdida del modelo vs el número de épocas en el set de entrenamiento y validación, y presenten el desempeño del modelo con las métricas error absoluto medio (MAE) y error cuadrático medio (MSE)."
      ]
    },
    {
      "cell_type": "code",
      "source": [
        "!pip install livelossplot"
      ],
      "metadata": {
        "id": "lgKkY3pjhQSH"
      },
      "execution_count": null,
      "outputs": []
    },
    {
      "cell_type": "code",
      "source": [
        "# librerias\n",
        "\n",
        "# Normalización de variables predictoras (X) con la función StandardScaler\n",
        "from sklearn.preprocessing import StandardScaler\n",
        "\n",
        "from keras.models import Sequential\n",
        "from keras.layers import Dense, Activation\n",
        "from livelossplot import PlotLossesKeras\n",
        "from keras import backend as K\n",
        "import keras.optimizers as opts"
      ],
      "metadata": {
        "id": "c9CA7XzYYoUi"
      },
      "execution_count": 281,
      "outputs": []
    },
    {
      "cell_type": "code",
      "execution_count": 282,
      "metadata": {
        "id": "GmayY9RQWCuS"
      },
      "outputs": [],
      "source": [
        "# Definición de la función StandardScaler\n",
        "scaler = StandardScaler()\n",
        "scaler.fit(X)\n",
        "\n",
        "# Transformación de los set de entrenamiento y test\n",
        "XTrain = pd.DataFrame(data=scaler.transform(XTrain), columns=XTrain.columns, index=XTrain.index)\n",
        "XTest = pd.DataFrame(data=scaler.transform(XTest), columns=XTest.columns, index=XTest.index)\n",
        "\n",
        "XTrain = np.array(XTrain)\n",
        "yTrain = np.array(yTrain)\n",
        "\n",
        "XTest = np.array(XTest)\n",
        "yTest = np.array(yTest)"
      ]
    },
    {
      "cell_type": "code",
      "source": [
        "yTrain"
      ],
      "metadata": {
        "id": "yGdHLFE6cTt8",
        "outputId": "05d097a9-5067-4d1e-977f-27557433d308",
        "colab": {
          "base_uri": "https://localhost:8080/"
        }
      },
      "execution_count": 283,
      "outputs": [
        {
          "output_type": "execute_result",
          "data": {
            "text/plain": [
              "array([[0.69],\n",
              "       [0.49],\n",
              "       [0.84],\n",
              "       [0.83],\n",
              "       [0.78],\n",
              "       [0.76],\n",
              "       [0.55],\n",
              "       [0.79],\n",
              "       [0.76],\n",
              "       [0.58],\n",
              "       [0.65],\n",
              "       [0.7 ],\n",
              "       [0.92],\n",
              "       [0.54],\n",
              "       [0.82],\n",
              "       [0.65],\n",
              "       [0.64],\n",
              "       [0.53],\n",
              "       [0.75],\n",
              "       [0.61],\n",
              "       [0.85],\n",
              "       [0.74],\n",
              "       [0.78],\n",
              "       [0.73],\n",
              "       [0.96],\n",
              "       [0.51],\n",
              "       [0.71],\n",
              "       [0.68],\n",
              "       [0.71],\n",
              "       [0.96],\n",
              "       [0.77],\n",
              "       [0.82],\n",
              "       [0.8 ],\n",
              "       [0.65],\n",
              "       [0.6 ],\n",
              "       [0.73],\n",
              "       [0.58],\n",
              "       [0.74],\n",
              "       [0.85],\n",
              "       [0.95],\n",
              "       [0.58],\n",
              "       [0.46],\n",
              "       [0.79],\n",
              "       [0.7 ],\n",
              "       [0.93],\n",
              "       [0.73],\n",
              "       [0.55],\n",
              "       [0.94],\n",
              "       [0.76],\n",
              "       [0.69],\n",
              "       [0.89],\n",
              "       [0.94],\n",
              "       [0.89],\n",
              "       [0.78],\n",
              "       [0.75],\n",
              "       [0.84],\n",
              "       [0.68],\n",
              "       [0.68],\n",
              "       [0.73],\n",
              "       [0.93],\n",
              "       [0.52],\n",
              "       [0.56],\n",
              "       [0.87],\n",
              "       [0.45],\n",
              "       [0.64],\n",
              "       [0.67],\n",
              "       [0.65],\n",
              "       [0.81],\n",
              "       [0.68],\n",
              "       [0.71],\n",
              "       [0.73],\n",
              "       [0.85],\n",
              "       [0.79],\n",
              "       [0.89],\n",
              "       [0.67],\n",
              "       [0.57],\n",
              "       [0.81],\n",
              "       [0.47],\n",
              "       [0.57],\n",
              "       [0.6 ],\n",
              "       [0.76],\n",
              "       [0.68],\n",
              "       [0.48],\n",
              "       [0.56],\n",
              "       [0.59],\n",
              "       [0.79],\n",
              "       [0.84],\n",
              "       [0.42],\n",
              "       [0.96],\n",
              "       [0.8 ],\n",
              "       [0.59],\n",
              "       [0.63],\n",
              "       [0.76],\n",
              "       [0.64],\n",
              "       [0.93],\n",
              "       [0.89],\n",
              "       [0.71],\n",
              "       [0.88],\n",
              "       [0.52],\n",
              "       [0.65],\n",
              "       [0.71],\n",
              "       [0.88],\n",
              "       [0.58],\n",
              "       [0.61],\n",
              "       [0.58],\n",
              "       [0.93],\n",
              "       [0.72],\n",
              "       [0.62],\n",
              "       [0.86],\n",
              "       [0.62],\n",
              "       [0.77],\n",
              "       [0.67],\n",
              "       [0.44],\n",
              "       [0.79],\n",
              "       [0.77],\n",
              "       [0.62],\n",
              "       [0.78],\n",
              "       [0.63],\n",
              "       [0.76],\n",
              "       [0.65],\n",
              "       [0.42],\n",
              "       [0.57],\n",
              "       [0.45],\n",
              "       [0.94],\n",
              "       [0.72],\n",
              "       [0.64],\n",
              "       [0.72],\n",
              "       [0.82],\n",
              "       [0.91],\n",
              "       [0.8 ],\n",
              "       [0.69],\n",
              "       [0.71],\n",
              "       [0.72],\n",
              "       [0.81],\n",
              "       [0.84],\n",
              "       [0.38],\n",
              "       [0.81],\n",
              "       [0.57],\n",
              "       [0.94],\n",
              "       [0.64],\n",
              "       [0.73],\n",
              "       [0.68],\n",
              "       [0.74],\n",
              "       [0.9 ],\n",
              "       [0.95],\n",
              "       [0.63],\n",
              "       [0.9 ],\n",
              "       [0.73],\n",
              "       [0.74],\n",
              "       [0.68],\n",
              "       [0.66],\n",
              "       [0.7 ],\n",
              "       [0.93],\n",
              "       [0.39],\n",
              "       [0.64],\n",
              "       [0.91],\n",
              "       [0.71],\n",
              "       [0.74],\n",
              "       [0.66],\n",
              "       [0.86],\n",
              "       [0.89],\n",
              "       [0.66],\n",
              "       [0.76],\n",
              "       [0.52],\n",
              "       [0.91],\n",
              "       [0.49],\n",
              "       [0.89],\n",
              "       [0.61],\n",
              "       [0.64],\n",
              "       [0.82],\n",
              "       [0.72],\n",
              "       [0.9 ],\n",
              "       [0.76],\n",
              "       [0.8 ],\n",
              "       [0.75],\n",
              "       [0.89],\n",
              "       [0.87],\n",
              "       [0.92],\n",
              "       [0.79],\n",
              "       [0.78],\n",
              "       [0.59],\n",
              "       [0.93],\n",
              "       [0.73],\n",
              "       [0.8 ],\n",
              "       [0.64],\n",
              "       [0.52],\n",
              "       [0.34],\n",
              "       [0.97],\n",
              "       [0.91],\n",
              "       [0.72],\n",
              "       [0.47],\n",
              "       [0.65],\n",
              "       [0.52],\n",
              "       [0.59],\n",
              "       [0.84],\n",
              "       [0.68],\n",
              "       [0.69],\n",
              "       [0.66],\n",
              "       [0.92],\n",
              "       [0.67],\n",
              "       [0.87],\n",
              "       [0.85],\n",
              "       [0.78],\n",
              "       [0.45],\n",
              "       [0.62],\n",
              "       [0.52],\n",
              "       [0.56],\n",
              "       [0.92],\n",
              "       [0.63],\n",
              "       [0.74],\n",
              "       [0.84],\n",
              "       [0.87],\n",
              "       [0.46],\n",
              "       [0.61],\n",
              "       [0.71],\n",
              "       [0.75],\n",
              "       [0.71],\n",
              "       [0.94],\n",
              "       [0.9 ],\n",
              "       [0.73],\n",
              "       [0.78],\n",
              "       [0.78],\n",
              "       [0.94],\n",
              "       [0.7 ],\n",
              "       [0.7 ],\n",
              "       [0.49],\n",
              "       [0.66],\n",
              "       [0.95],\n",
              "       [0.86],\n",
              "       [0.92],\n",
              "       [0.68],\n",
              "       [0.87],\n",
              "       [0.7 ],\n",
              "       [0.97],\n",
              "       [0.72],\n",
              "       [0.8 ],\n",
              "       [0.95],\n",
              "       [0.62],\n",
              "       [0.79],\n",
              "       [0.67],\n",
              "       [0.72],\n",
              "       [0.73],\n",
              "       [0.56],\n",
              "       [0.78],\n",
              "       [0.69],\n",
              "       [0.85],\n",
              "       [0.54],\n",
              "       [0.76],\n",
              "       [0.94],\n",
              "       [0.78],\n",
              "       [0.9 ],\n",
              "       [0.67],\n",
              "       [0.63],\n",
              "       [0.52],\n",
              "       [0.86],\n",
              "       [0.9 ],\n",
              "       [0.61],\n",
              "       [0.87],\n",
              "       [0.79],\n",
              "       [0.91],\n",
              "       [0.54],\n",
              "       [0.57],\n",
              "       [0.62],\n",
              "       [0.65],\n",
              "       [0.64],\n",
              "       [0.5 ],\n",
              "       [0.71],\n",
              "       [0.49],\n",
              "       [0.65],\n",
              "       [0.7 ],\n",
              "       [0.83],\n",
              "       [0.64],\n",
              "       [0.86],\n",
              "       [0.48],\n",
              "       [0.7 ],\n",
              "       [0.49],\n",
              "       [0.82],\n",
              "       [0.71],\n",
              "       [0.66],\n",
              "       [0.53],\n",
              "       [0.69],\n",
              "       [0.81],\n",
              "       [0.75],\n",
              "       [0.77],\n",
              "       [0.72],\n",
              "       [0.93],\n",
              "       [0.79],\n",
              "       [0.66],\n",
              "       [0.73],\n",
              "       [0.83],\n",
              "       [0.82],\n",
              "       [0.48],\n",
              "       [0.77],\n",
              "       [0.66],\n",
              "       [0.92],\n",
              "       [0.93],\n",
              "       [0.73],\n",
              "       [0.92],\n",
              "       [0.72],\n",
              "       [0.93],\n",
              "       [0.89],\n",
              "       [0.77],\n",
              "       [0.56],\n",
              "       [0.78],\n",
              "       [0.91],\n",
              "       [0.78],\n",
              "       [0.93],\n",
              "       [0.67],\n",
              "       [0.7 ],\n",
              "       [0.95],\n",
              "       [0.81],\n",
              "       [0.77],\n",
              "       [0.68],\n",
              "       [0.77],\n",
              "       [0.78],\n",
              "       [0.91],\n",
              "       [0.94],\n",
              "       [0.61],\n",
              "       [0.96],\n",
              "       [0.79],\n",
              "       [0.54],\n",
              "       [0.67],\n",
              "       [0.53],\n",
              "       [0.44],\n",
              "       [0.57],\n",
              "       [0.79],\n",
              "       [0.64],\n",
              "       [0.5 ],\n",
              "       [0.62],\n",
              "       [0.92],\n",
              "       [0.58],\n",
              "       [0.94],\n",
              "       [0.44],\n",
              "       [0.9 ],\n",
              "       [0.88],\n",
              "       [0.71],\n",
              "       [0.61],\n",
              "       [0.75],\n",
              "       [0.65],\n",
              "       [0.73],\n",
              "       [0.79],\n",
              "       [0.84],\n",
              "       [0.94],\n",
              "       [0.54],\n",
              "       [0.7 ],\n",
              "       [0.79],\n",
              "       [0.8 ],\n",
              "       [0.62],\n",
              "       [0.71],\n",
              "       [0.79]])"
            ]
          },
          "metadata": {},
          "execution_count": 283
        }
      ]
    },
    {
      "cell_type": "code",
      "source": [
        "# Definición de dimensiones de salida, varaibles de interés\n",
        "output_var = yTrain.shape[1]\n",
        "print(output_var, ' output variables')"
      ],
      "metadata": {
        "id": "thUPga-cZz_5"
      },
      "execution_count": null,
      "outputs": []
    },
    {
      "cell_type": "code",
      "source": [
        "# Definición de dimensiones de entrada, varaibles predictoras\n",
        "dims = XTrain.shape[1]\n",
        "print(dims, 'input variables')"
      ],
      "metadata": {
        "id": "WZUlZCQIbQ9J",
        "outputId": "f5aa42f8-cc5c-4264-cc71-3a419bb90a54",
        "colab": {
          "base_uri": "https://localhost:8080/"
        }
      },
      "execution_count": 286,
      "outputs": [
        {
          "output_type": "stream",
          "name": "stdout",
          "text": [
            "7 input variables\n"
          ]
        }
      ]
    },
    {
      "cell_type": "code",
      "source": [
        "K.clear_session()\n",
        "\n",
        "# Definición red neuronal con la función Sequential()\n",
        "model = Sequential()\n",
        "# Definición de la capa densa con un tamaño de salida igual a output_var y un input_shape de dims\n",
        "model.add(Dense(output_var, input_shape=(dims,)))\n",
        "\n",
        "# Impresión de la arquitectura de la red neuronal\n",
        "print(model.summary())"
      ],
      "metadata": {
        "id": "wOVAEyqphBKK",
        "outputId": "49ae2c5d-32fb-4436-cc33-e4287efee993",
        "colab": {
          "base_uri": "https://localhost:8080/"
        }
      },
      "execution_count": 293,
      "outputs": [
        {
          "output_type": "stream",
          "name": "stdout",
          "text": [
            "Model: \"sequential\"\n",
            "_________________________________________________________________\n",
            " Layer (type)                Output Shape              Param #   \n",
            "=================================================================\n",
            " dense (Dense)               (None, 1)                 8         \n",
            "                                                                 \n",
            "=================================================================\n",
            "Total params: 8\n",
            "Trainable params: 8\n",
            "Non-trainable params: 0\n",
            "_________________________________________________________________\n",
            "None\n"
          ]
        }
      ]
    },
    {
      "cell_type": "code",
      "source": [
        "# Definición de función de perdida. Se usa mean_squared_error dado que es un ejercicio de regresión\n",
        "model.compile(optimizer='sgd', loss='mean_squared_error')"
      ],
      "metadata": {
        "id": "_iuBQMe3hhpU"
      },
      "execution_count": 294,
      "outputs": []
    },
    {
      "cell_type": "code",
      "source": [
        "# Entrenamiento de la red neuronal con 50 épocas\n",
        "model.fit(XTrain, yTrain, \n",
        "          verbose=1, \n",
        "          epochs=100, \n",
        "          validation_data=(XTest, yTest),\n",
        "          callbacks=[PlotLossesKeras()])"
      ],
      "metadata": {
        "id": "oTx3TgQohqoV",
        "outputId": "82a0ea21-dad5-4b47-df03-6603e16617cf",
        "colab": {
          "base_uri": "https://localhost:8080/",
          "height": 892
        }
      },
      "execution_count": 295,
      "outputs": [
        {
          "output_type": "display_data",
          "data": {
            "text/plain": [
              "<Figure size 1200x800 with 2 Axes>"
            ],
            "image/png": "[encoded data removed]"
          },
          "metadata": {}
        },
        {
          "output_type": "stream",
          "name": "stdout",
          "text": [
            "Loss\n",
            "\ttraining         \t (min:    0.004, max:    1.453, cur:    0.004)\n",
            "\tvalidation       \t (min:    0.003, max:    0.902, cur:    0.003)\n",
            "\b\b\b\b\b\b\b\b\b\b\b\b\b\b\b\b\b\b\b\b\b\b\b\b\b\b\b\b\b\b\b\b\b\b\b\b\b\b\b\b\b\b\b\b\b\b\b\b\b\b\b\b\b\b\b\b\b\b\b\b\b\b\b\r11/11 [==============================] - 0s 39ms/step - loss: 0.0039 - val_loss: 0.0033\n"
          ]
        },
        {
          "output_type": "execute_result",
          "data": {
            "text/plain": [
              "<keras.callbacks.History at 0x7f5a7387de70>"
            ]
          },
          "metadata": {},
          "execution_count": 295
        }
      ]
    },
    {
      "cell_type": "markdown",
      "metadata": {
        "id": "5woB7TMWWCuS"
      },
      "source": [
        "## Punto 2 - Red Neuronal multicapa\n",
        "\n",
        "En la celda 2 creen una **red neuronal con dos capas** con la librería Keras, que prediga la probabilidad de admisión de los estudiantes usando los sets de entrenamiento y test definidos anteriormente. Pueden usar la función de perdida, el optimizador, el número de épocas y el número de neuronas que consideren pertinentes para el modelo, justificando su selección. Finalmente, grafiquen la pérdida del modelo vs el número de épocas en el set de entrenamiento y validación, y presenten el desempeño del modelo con las métricas error absoluto medio (MAE) y error cuadrático medio (MSE)."
      ]
    },
    {
      "cell_type": "code",
      "execution_count": null,
      "metadata": {
        "id": "lYoDz2kcWCuT"
      },
      "outputs": [],
      "source": [
        "# Celda 2\n"
      ]
    },
    {
      "cell_type": "markdown",
      "metadata": {
        "id": "H9fxI2G8WCuT"
      },
      "source": [
        "## Punto 3  - Red Neuronal multicapa\n",
        "\n",
        "En la celda 3 creen **una red neuronal con más de una capa con la librería Keras, usando early stopping y dropout,** que prediga la probabilidad de admisión de los estudiantes con los sets de entrenamiento y test definidos anteriormente. Pueden usar la función de perdida, el optimizador, el número de épocas y el número de neuronas que consideren pertinentes para el modelo, justificando su selección. Finalmente, grafiquen la pérdida del modelo vs el número de épocas en el set de entrenamiento y validación, y presenten el desempeño del modelo con las métricas error absoluto medio (MAE) y error cuadrático medio (MSE)."
      ]
    },
    {
      "cell_type": "code",
      "execution_count": null,
      "metadata": {
        "id": "bVAeY6GcWCuT"
      },
      "outputs": [],
      "source": [
        "# Celda 3\n"
      ]
    },
    {
      "cell_type": "markdown",
      "metadata": {
        "id": "XkNJS6caWCuT"
      },
      "source": [
        "## Punto 4 - Comparación y análisis de resultados\n",
        "\n",
        "En la celda 4 comparen los resultados obtenidos de las diferentes redes y comenten las ventajas del mejor modelo y las desventajas del modelo con el menor desempeño."
      ]
    },
    {
      "cell_type": "code",
      "execution_count": null,
      "metadata": {
        "id": "s2hBgusdWCuU"
      },
      "outputs": [],
      "source": [
        "# Celda 4\n"
      ]
    }
  ],
  "metadata": {
    "kernelspec": {
      "display_name": "Python 3",
      "language": "python",
      "name": "python3"
    },
    "language_info": {
      "codemirror_mode": {
        "name": "ipython",
        "version": 3
      },
      "file_extension": ".py",
      "mimetype": "text/x-python",
      "name": "python",
      "nbconvert_exporter": "python",
      "pygments_lexer": "ipython3",
      "version": "3.7.3"
    },
    "colab": {
      "provenance": []
    }
  },
  "nbformat": 4,
  "nbformat_minor": 0
}