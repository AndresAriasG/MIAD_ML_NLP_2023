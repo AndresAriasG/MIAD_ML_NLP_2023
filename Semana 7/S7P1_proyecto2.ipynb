{
  "cells": [
    {
      "cell_type": "markdown",
      "metadata": {
        "id": "ejcIi-hm_uUf"
      },
      "source": [
        "![image info](https://raw.githubusercontent.com/albahnsen/MIAD_ML_and_NLP/main/images/banner_1.png)"
      ]
    },
    {
      "cell_type": "markdown",
      "metadata": {
        "id": "ENFPcNUd_uUh"
      },
      "source": [
        "# Proyecto 2 - Clasificación de género de películas\n",
        "\n",
        "El propósito de este proyecto es que puedan poner en práctica, en sus respectivos grupos de trabajo, sus conocimientos sobre técnicas de preprocesamiento, modelos predictivos de NLP, y la disponibilización de modelos. Para su desarrollo tengan en cuenta las instrucciones dadas en la \"Guía del proyecto 2: Clasificación de género de películas\"\n",
        "\n",
        "**Entrega**: La entrega del proyecto deberán realizarla durante la semana 8. Sin embargo, es importante que avancen en la semana 7 en el modelado del problema y en parte del informe, tal y como se les indicó en la guía.\n",
        "\n",
        "Para hacer la entrega, deberán adjuntar el informe autocontenido en PDF a la actividad de entrega del proyecto que encontrarán en la semana 8, y subir el archivo de predicciones a la [competencia de Kaggle](https://www.kaggle.com/t/2c54d005f76747fe83f77fbf8b3ec232)."
      ]
    },
    {
      "cell_type": "markdown",
      "metadata": {
        "id": "KLTy_iAu_uUi"
      },
      "source": [
        "## Datos para la predicción de género en películas"
      ]
    },
    {
      "cell_type": "markdown",
      "metadata": {
        "id": "GGNWvsJu_uUj"
      },
      "source": [
        "![image info](https://raw.githubusercontent.com/albahnsen/MIAD_ML_and_NLP/main/images/moviegenre.png)"
      ]
    },
    {
      "cell_type": "markdown",
      "metadata": {
        "id": "bvn0QakK_uUk"
      },
      "source": [
        "En este proyecto se usará un conjunto de datos de géneros de películas. Cada observación contiene el título de una película, su año de lanzamiento, la sinopsis o plot de la película (resumen de la trama) y los géneros a los que pertenece (una película puede pertenercer a más de un género). Por ejemplo:\n",
        "- Título: 'How to Be a Serial Killer'\n",
        "- Plot: 'A serial killer decides to teach the secrets of his satisfying career to a video store clerk.'\n",
        "- Generos: 'Comedy', 'Crime', 'Horror'\n",
        "\n",
        "La idea es que usen estos datos para predecir la probabilidad de que una película pertenezca, dada la sinopsis, a cada uno de los géneros."
      ]
    },
    {
      "cell_type": "markdown",
      "metadata": {
        "id": "lmHd9uut_uUk"
      },
      "source": [
        "Agradecemos al profesor Fabio González, Ph.D. y a su alumno John Arevalo por proporcionar este conjunto de datos. Ver https://arxiv.org/abs/1702.01992"
      ]
    },
    {
      "cell_type": "markdown",
      "metadata": {
        "id": "Yh6JQ0C8_uUl"
      },
      "source": [
        "## Ejemplo predicción conjunto de test para envío a Kaggle\n",
        "En esta sección encontrarán el formato en el que deben guardar los resultados de la predicción para que puedan subirlos a la competencia en Kaggle."
      ]
    },
    {
      "cell_type": "code",
      "execution_count": 1,
      "metadata": {
        "id": "nYkMLeaU_uUl"
      },
      "outputs": [],
      "source": [
        "import warnings\n",
        "warnings.filterwarnings('ignore')"
      ]
    },
    {
      "cell_type": "code",
      "source": [
        "!pip install livelossplot"
      ],
      "metadata": {
        "colab": {
          "base_uri": "https://localhost:8080/"
        },
        "id": "_fd73k__f3Fw",
        "outputId": "91cb518b-2349-40e0-a9d3-0b08ae9f2483"
      },
      "execution_count": 2,
      "outputs": [
        {
          "output_type": "stream",
          "name": "stdout",
          "text": [
            "Looking in indexes: https://pypi.org/simple, https://us-python.pkg.dev/colab-wheels/public/simple/\n",
            "Requirement already satisfied: livelossplot in /usr/local/lib/python3.10/dist-packages (0.5.5)\n",
            "Requirement already satisfied: matplotlib in /usr/local/lib/python3.10/dist-packages (from livelossplot) (3.7.1)\n",
            "Requirement already satisfied: bokeh in /usr/local/lib/python3.10/dist-packages (from livelossplot) (2.4.3)\n",
            "Requirement already satisfied: Jinja2>=2.9 in /usr/local/lib/python3.10/dist-packages (from bokeh->livelossplot) (3.1.2)\n",
            "Requirement already satisfied: numpy>=1.11.3 in /usr/local/lib/python3.10/dist-packages (from bokeh->livelossplot) (1.22.4)\n",
            "Requirement already satisfied: packaging>=16.8 in /usr/local/lib/python3.10/dist-packages (from bokeh->livelossplot) (23.1)\n",
            "Requirement already satisfied: pillow>=7.1.0 in /usr/local/lib/python3.10/dist-packages (from bokeh->livelossplot) (8.4.0)\n",
            "Requirement already satisfied: PyYAML>=3.10 in /usr/local/lib/python3.10/dist-packages (from bokeh->livelossplot) (6.0)\n",
            "Requirement already satisfied: tornado>=5.1 in /usr/local/lib/python3.10/dist-packages (from bokeh->livelossplot) (6.3.1)\n",
            "Requirement already satisfied: typing-extensions>=3.10.0 in /usr/local/lib/python3.10/dist-packages (from bokeh->livelossplot) (4.5.0)\n",
            "Requirement already satisfied: contourpy>=1.0.1 in /usr/local/lib/python3.10/dist-packages (from matplotlib->livelossplot) (1.0.7)\n",
            "Requirement already satisfied: cycler>=0.10 in /usr/local/lib/python3.10/dist-packages (from matplotlib->livelossplot) (0.11.0)\n",
            "Requirement already satisfied: fonttools>=4.22.0 in /usr/local/lib/python3.10/dist-packages (from matplotlib->livelossplot) (4.39.3)\n",
            "Requirement already satisfied: kiwisolver>=1.0.1 in /usr/local/lib/python3.10/dist-packages (from matplotlib->livelossplot) (1.4.4)\n",
            "Requirement already satisfied: pyparsing>=2.3.1 in /usr/local/lib/python3.10/dist-packages (from matplotlib->livelossplot) (3.0.9)\n",
            "Requirement already satisfied: python-dateutil>=2.7 in /usr/local/lib/python3.10/dist-packages (from matplotlib->livelossplot) (2.8.2)\n",
            "Requirement already satisfied: MarkupSafe>=2.0 in /usr/local/lib/python3.10/dist-packages (from Jinja2>=2.9->bokeh->livelossplot) (2.1.2)\n",
            "Requirement already satisfied: six>=1.5 in /usr/local/lib/python3.10/dist-packages (from python-dateutil>=2.7->matplotlib->livelossplot) (1.16.0)\n"
          ]
        }
      ]
    },
    {
      "cell_type": "code",
      "execution_count": 3,
      "metadata": {
        "id": "kxAaWHbT_uUm"
      },
      "outputs": [],
      "source": [
        "# Importación librerías\n",
        "import pandas as pd\n",
        "import os\n",
        "import numpy as np\n",
        "import matplotlib.pyplot as plt\n",
        "import seaborn as sns\n",
        "\n",
        "from sklearn.feature_extraction.text import CountVectorizer, TfidfVectorizer\n",
        "from sklearn.preprocessing import MultiLabelBinarizer\n",
        "from sklearn.multiclass import OneVsRestClassifier\n",
        "from sklearn.ensemble import RandomForestRegressor, RandomForestClassifier\n",
        "from sklearn.metrics import r2_score, roc_auc_score,classification_report\n",
        "from sklearn.model_selection import train_test_split\n",
        "\n",
        "import tensorflow as tf\n",
        "import keras\n",
        "import tensorflow.python.keras.backend as K \n",
        "sess = K.get_session()\n",
        "from keras.models import Sequential\n",
        "from keras.layers import LSTM\n",
        "from keras.preprocessing.text import Tokenizer\n",
        "from keras.layers.core import Dense, Dropout, Flatten\n",
        "from keras.layers import Embedding\n",
        "from keras.preprocessing import sequence\n",
        "from livelossplot import PlotLossesKeras\n",
        "from keras import layers\n",
        "%matplotlib inline"
      ]
    },
    {
      "cell_type": "code",
      "execution_count": 4,
      "metadata": {
        "id": "4RqLYKVi_uUn"
      },
      "outputs": [],
      "source": [
        "# Carga de datos de archivo .csv\n",
        "dataTraining = pd.read_csv('https://github.com/albahnsen/MIAD_ML_and_NLP/raw/main/datasets/dataTraining.zip', encoding='UTF-8', index_col=0)\n",
        "dataTesting = pd.read_csv('https://github.com/albahnsen/MIAD_ML_and_NLP/raw/main/datasets/dataTesting.zip', encoding='UTF-8', index_col=0)"
      ]
    },
    {
      "cell_type": "code",
      "execution_count": 5,
      "metadata": {
        "colab": {
          "base_uri": "https://localhost:8080/",
          "height": 204
        },
        "id": "ufmnT3Lb_uUo",
        "outputId": "04287b40-878a-4ad7-f7c6-8877c3d98b30"
      },
      "outputs": [
        {
          "output_type": "execute_result",
          "data": {
            "text/plain": [
              "      year                      title  \\\n",
              "3107  2003                       Most   \n",
              "900   2008  How to Be a Serial Killer   \n",
              "6724  1941             A Woman's Face   \n",
              "4704  1954            Executive Suite   \n",
              "2582  1990              Narrow Margin   \n",
              "\n",
              "                                                   plot  \\\n",
              "3107  most is the story of a single father who takes...   \n",
              "900   a serial killer decides to teach the secrets o...   \n",
              "6724  in sweden ,  a female blackmailer with a disfi...   \n",
              "4704  in a friday afternoon in new york ,  the presi...   \n",
              "2582  in los angeles ,  the editor of a publishing h...   \n",
              "\n",
              "                                  genres  rating  \n",
              "3107                  ['Short', 'Drama']     8.0  \n",
              "900        ['Comedy', 'Crime', 'Horror']     5.6  \n",
              "6724  ['Drama', 'Film-Noir', 'Thriller']     7.2  \n",
              "4704                           ['Drama']     7.4  \n",
              "2582     ['Action', 'Crime', 'Thriller']     6.6  "
            ],
            "text/html": [
              "\n",
              "  <div id=\"df-bdb8e8aa-e2d8-4101-87c5-d677d42d73a3\">\n",
              "    <div class=\"colab-df-container\">\n",
              "      <div>\n",
              "<style scoped>\n",
              "    .dataframe tbody tr th:only-of-type {\n",
              "        vertical-align: middle;\n",
              "    }\n",
              "\n",
              "    .dataframe tbody tr th {\n",
              "        vertical-align: top;\n",
              "    }\n",
              "\n",
              "    .dataframe thead th {\n",
              "        text-align: right;\n",
              "    }\n",
              "</style>\n",
              "<table border=\"1\" class=\"dataframe\">\n",
              "  <thead>\n",
              "    <tr style=\"text-align: right;\">\n",
              "      <th></th>\n",
              "      <th>year</th>\n",
              "      <th>title</th>\n",
              "      <th>plot</th>\n",
              "      <th>genres</th>\n",
              "      <th>rating</th>\n",
              "    </tr>\n",
              "  </thead>\n",
              "  <tbody>\n",
              "    <tr>\n",
              "      <th>3107</th>\n",
              "      <td>2003</td>\n",
              "      <td>Most</td>\n",
              "      <td>most is the story of a single father who takes...</td>\n",
              "      <td>['Short', 'Drama']</td>\n",
              "      <td>8.0</td>\n",
              "    </tr>\n",
              "    <tr>\n",
              "      <th>900</th>\n",
              "      <td>2008</td>\n",
              "      <td>How to Be a Serial Killer</td>\n",
              "      <td>a serial killer decides to teach the secrets o...</td>\n",
              "      <td>['Comedy', 'Crime', 'Horror']</td>\n",
              "      <td>5.6</td>\n",
              "    </tr>\n",
              "    <tr>\n",
              "      <th>6724</th>\n",
              "      <td>1941</td>\n",
              "      <td>A Woman's Face</td>\n",
              "      <td>in sweden ,  a female blackmailer with a disfi...</td>\n",
              "      <td>['Drama', 'Film-Noir', 'Thriller']</td>\n",
              "      <td>7.2</td>\n",
              "    </tr>\n",
              "    <tr>\n",
              "      <th>4704</th>\n",
              "      <td>1954</td>\n",
              "      <td>Executive Suite</td>\n",
              "      <td>in a friday afternoon in new york ,  the presi...</td>\n",
              "      <td>['Drama']</td>\n",
              "      <td>7.4</td>\n",
              "    </tr>\n",
              "    <tr>\n",
              "      <th>2582</th>\n",
              "      <td>1990</td>\n",
              "      <td>Narrow Margin</td>\n",
              "      <td>in los angeles ,  the editor of a publishing h...</td>\n",
              "      <td>['Action', 'Crime', 'Thriller']</td>\n",
              "      <td>6.6</td>\n",
              "    </tr>\n",
              "  </tbody>\n",
              "</table>\n",
              "</div>\n",
              "      <button class=\"colab-df-convert\" onclick=\"convertToInteractive('df-bdb8e8aa-e2d8-4101-87c5-d677d42d73a3')\"\n",
              "              title=\"Convert this dataframe to an interactive table.\"\n",
              "              style=\"display:none;\">\n",
              "        \n",
              "  <svg xmlns=\"http://www.w3.org/2000/svg\" height=\"24px\"viewBox=\"0 0 24 24\"\n",
              "       width=\"24px\">\n",
              "    <path d=\"M0 0h24v24H0V0z\" fill=\"none\"/>\n",
              "    <path d=\"M18.56 5.44l.94 2.06.94-2.06 2.06-.94-2.06-.94-.94-2.06-.94 2.06-2.06.94zm-11 1L8.5 8.5l.94-2.06 2.06-.94-2.06-.94L8.5 2.5l-.94 2.06-2.06.94zm10 10l.94 2.06.94-2.06 2.06-.94-2.06-.94-.94-2.06-.94 2.06-2.06.94z\"/><path d=\"M17.41 7.96l-1.37-1.37c-.4-.4-.92-.59-1.43-.59-.52 0-1.04.2-1.43.59L10.3 9.45l-7.72 7.72c-.78.78-.78 2.05 0 2.83L4 21.41c.39.39.9.59 1.41.59.51 0 1.02-.2 1.41-.59l7.78-7.78 2.81-2.81c.8-.78.8-2.07 0-2.86zM5.41 20L4 18.59l7.72-7.72 1.47 1.35L5.41 20z\"/>\n",
              "  </svg>\n",
              "      </button>\n",
              "      \n",
              "  <style>\n",
              "    .colab-df-container {\n",
              "      display:flex;\n",
              "      flex-wrap:wrap;\n",
              "      gap: 12px;\n",
              "    }\n",
              "\n",
              "    .colab-df-convert {\n",
              "      background-color: #E8F0FE;\n",
              "      border: none;\n",
              "      border-radius: 50%;\n",
              "      cursor: pointer;\n",
              "      display: none;\n",
              "      fill: #1967D2;\n",
              "      height: 32px;\n",
              "      padding: 0 0 0 0;\n",
              "      width: 32px;\n",
              "    }\n",
              "\n",
              "    .colab-df-convert:hover {\n",
              "      background-color: #E2EBFA;\n",
              "      box-shadow: 0px 1px 2px rgba(60, 64, 67, 0.3), 0px 1px 3px 1px rgba(60, 64, 67, 0.15);\n",
              "      fill: #174EA6;\n",
              "    }\n",
              "\n",
              "    [theme=dark] .colab-df-convert {\n",
              "      background-color: #3B4455;\n",
              "      fill: #D2E3FC;\n",
              "    }\n",
              "\n",
              "    [theme=dark] .colab-df-convert:hover {\n",
              "      background-color: #434B5C;\n",
              "      box-shadow: 0px 1px 3px 1px rgba(0, 0, 0, 0.15);\n",
              "      filter: drop-shadow(0px 1px 2px rgba(0, 0, 0, 0.3));\n",
              "      fill: #FFFFFF;\n",
              "    }\n",
              "  </style>\n",
              "\n",
              "      <script>\n",
              "        const buttonEl =\n",
              "          document.querySelector('#df-bdb8e8aa-e2d8-4101-87c5-d677d42d73a3 button.colab-df-convert');\n",
              "        buttonEl.style.display =\n",
              "          google.colab.kernel.accessAllowed ? 'block' : 'none';\n",
              "\n",
              "        async function convertToInteractive(key) {\n",
              "          const element = document.querySelector('#df-bdb8e8aa-e2d8-4101-87c5-d677d42d73a3');\n",
              "          const dataTable =\n",
              "            await google.colab.kernel.invokeFunction('convertToInteractive',\n",
              "                                                     [key], {});\n",
              "          if (!dataTable) return;\n",
              "\n",
              "          const docLinkHtml = 'Like what you see? Visit the ' +\n",
              "            '<a target=\"_blank\" href=https://colab.research.google.com/notebooks/data_table.ipynb>data table notebook</a>'\n",
              "            + ' to learn more about interactive tables.';\n",
              "          element.innerHTML = '';\n",
              "          dataTable['output_type'] = 'display_data';\n",
              "          await google.colab.output.renderOutput(dataTable, element);\n",
              "          const docLink = document.createElement('div');\n",
              "          docLink.innerHTML = docLinkHtml;\n",
              "          element.appendChild(docLink);\n",
              "        }\n",
              "      </script>\n",
              "    </div>\n",
              "  </div>\n",
              "  "
            ]
          },
          "metadata": {},
          "execution_count": 5
        }
      ],
      "source": [
        "# Visualización datos de entrenamiento\n",
        "dataTraining.head()"
      ]
    },
    {
      "cell_type": "code",
      "execution_count": 6,
      "metadata": {
        "colab": {
          "base_uri": "https://localhost:8080/",
          "height": 204
        },
        "id": "hPYNGZ1A_uUo",
        "outputId": "850ecced-30bb-4fc6-ea3c-ec07b12e2159"
      },
      "outputs": [
        {
          "output_type": "execute_result",
          "data": {
            "text/plain": [
              "   year                title  \\\n",
              "1  1999  Message in a Bottle   \n",
              "4  1978     Midnight Express   \n",
              "5  1996          Primal Fear   \n",
              "6  1950               Crisis   \n",
              "7  1959          The Tingler   \n",
              "\n",
              "                                                plot  \n",
              "1  who meets by fate ,  shall be sealed by fate ....  \n",
              "4  the true story of billy hayes ,  an american c...  \n",
              "5  martin vail left the chicago da ' s office to ...  \n",
              "6  husband and wife americans dr .  eugene and mr...  \n",
              "7  the coroner and scientist dr .  warren chapin ...  "
            ],
            "text/html": [
              "\n",
              "  <div id=\"df-506840cf-76e3-410d-8f3d-1fbf675bfdad\">\n",
              "    <div class=\"colab-df-container\">\n",
              "      <div>\n",
              "<style scoped>\n",
              "    .dataframe tbody tr th:only-of-type {\n",
              "        vertical-align: middle;\n",
              "    }\n",
              "\n",
              "    .dataframe tbody tr th {\n",
              "        vertical-align: top;\n",
              "    }\n",
              "\n",
              "    .dataframe thead th {\n",
              "        text-align: right;\n",
              "    }\n",
              "</style>\n",
              "<table border=\"1\" class=\"dataframe\">\n",
              "  <thead>\n",
              "    <tr style=\"text-align: right;\">\n",
              "      <th></th>\n",
              "      <th>year</th>\n",
              "      <th>title</th>\n",
              "      <th>plot</th>\n",
              "    </tr>\n",
              "  </thead>\n",
              "  <tbody>\n",
              "    <tr>\n",
              "      <th>1</th>\n",
              "      <td>1999</td>\n",
              "      <td>Message in a Bottle</td>\n",
              "      <td>who meets by fate ,  shall be sealed by fate ....</td>\n",
              "    </tr>\n",
              "    <tr>\n",
              "      <th>4</th>\n",
              "      <td>1978</td>\n",
              "      <td>Midnight Express</td>\n",
              "      <td>the true story of billy hayes ,  an american c...</td>\n",
              "    </tr>\n",
              "    <tr>\n",
              "      <th>5</th>\n",
              "      <td>1996</td>\n",
              "      <td>Primal Fear</td>\n",
              "      <td>martin vail left the chicago da ' s office to ...</td>\n",
              "    </tr>\n",
              "    <tr>\n",
              "      <th>6</th>\n",
              "      <td>1950</td>\n",
              "      <td>Crisis</td>\n",
              "      <td>husband and wife americans dr .  eugene and mr...</td>\n",
              "    </tr>\n",
              "    <tr>\n",
              "      <th>7</th>\n",
              "      <td>1959</td>\n",
              "      <td>The Tingler</td>\n",
              "      <td>the coroner and scientist dr .  warren chapin ...</td>\n",
              "    </tr>\n",
              "  </tbody>\n",
              "</table>\n",
              "</div>\n",
              "      <button class=\"colab-df-convert\" onclick=\"convertToInteractive('df-506840cf-76e3-410d-8f3d-1fbf675bfdad')\"\n",
              "              title=\"Convert this dataframe to an interactive table.\"\n",
              "              style=\"display:none;\">\n",
              "        \n",
              "  <svg xmlns=\"http://www.w3.org/2000/svg\" height=\"24px\"viewBox=\"0 0 24 24\"\n",
              "       width=\"24px\">\n",
              "    <path d=\"M0 0h24v24H0V0z\" fill=\"none\"/>\n",
              "    <path d=\"M18.56 5.44l.94 2.06.94-2.06 2.06-.94-2.06-.94-.94-2.06-.94 2.06-2.06.94zm-11 1L8.5 8.5l.94-2.06 2.06-.94-2.06-.94L8.5 2.5l-.94 2.06-2.06.94zm10 10l.94 2.06.94-2.06 2.06-.94-2.06-.94-.94-2.06-.94 2.06-2.06.94z\"/><path d=\"M17.41 7.96l-1.37-1.37c-.4-.4-.92-.59-1.43-.59-.52 0-1.04.2-1.43.59L10.3 9.45l-7.72 7.72c-.78.78-.78 2.05 0 2.83L4 21.41c.39.39.9.59 1.41.59.51 0 1.02-.2 1.41-.59l7.78-7.78 2.81-2.81c.8-.78.8-2.07 0-2.86zM5.41 20L4 18.59l7.72-7.72 1.47 1.35L5.41 20z\"/>\n",
              "  </svg>\n",
              "      </button>\n",
              "      \n",
              "  <style>\n",
              "    .colab-df-container {\n",
              "      display:flex;\n",
              "      flex-wrap:wrap;\n",
              "      gap: 12px;\n",
              "    }\n",
              "\n",
              "    .colab-df-convert {\n",
              "      background-color: #E8F0FE;\n",
              "      border: none;\n",
              "      border-radius: 50%;\n",
              "      cursor: pointer;\n",
              "      display: none;\n",
              "      fill: #1967D2;\n",
              "      height: 32px;\n",
              "      padding: 0 0 0 0;\n",
              "      width: 32px;\n",
              "    }\n",
              "\n",
              "    .colab-df-convert:hover {\n",
              "      background-color: #E2EBFA;\n",
              "      box-shadow: 0px 1px 2px rgba(60, 64, 67, 0.3), 0px 1px 3px 1px rgba(60, 64, 67, 0.15);\n",
              "      fill: #174EA6;\n",
              "    }\n",
              "\n",
              "    [theme=dark] .colab-df-convert {\n",
              "      background-color: #3B4455;\n",
              "      fill: #D2E3FC;\n",
              "    }\n",
              "\n",
              "    [theme=dark] .colab-df-convert:hover {\n",
              "      background-color: #434B5C;\n",
              "      box-shadow: 0px 1px 3px 1px rgba(0, 0, 0, 0.15);\n",
              "      filter: drop-shadow(0px 1px 2px rgba(0, 0, 0, 0.3));\n",
              "      fill: #FFFFFF;\n",
              "    }\n",
              "  </style>\n",
              "\n",
              "      <script>\n",
              "        const buttonEl =\n",
              "          document.querySelector('#df-506840cf-76e3-410d-8f3d-1fbf675bfdad button.colab-df-convert');\n",
              "        buttonEl.style.display =\n",
              "          google.colab.kernel.accessAllowed ? 'block' : 'none';\n",
              "\n",
              "        async function convertToInteractive(key) {\n",
              "          const element = document.querySelector('#df-506840cf-76e3-410d-8f3d-1fbf675bfdad');\n",
              "          const dataTable =\n",
              "            await google.colab.kernel.invokeFunction('convertToInteractive',\n",
              "                                                     [key], {});\n",
              "          if (!dataTable) return;\n",
              "\n",
              "          const docLinkHtml = 'Like what you see? Visit the ' +\n",
              "            '<a target=\"_blank\" href=https://colab.research.google.com/notebooks/data_table.ipynb>data table notebook</a>'\n",
              "            + ' to learn more about interactive tables.';\n",
              "          element.innerHTML = '';\n",
              "          dataTable['output_type'] = 'display_data';\n",
              "          await google.colab.output.renderOutput(dataTable, element);\n",
              "          const docLink = document.createElement('div');\n",
              "          docLink.innerHTML = docLinkHtml;\n",
              "          element.appendChild(docLink);\n",
              "        }\n",
              "      </script>\n",
              "    </div>\n",
              "  </div>\n",
              "  "
            ]
          },
          "metadata": {},
          "execution_count": 6
        }
      ],
      "source": [
        "# Visualización datos de test\n",
        "dataTesting.head()"
      ]
    },
    {
      "cell_type": "markdown",
      "source": [
        "## 1.0 Descriptivo"
      ],
      "metadata": {
        "id": "VNgPr9vPBcb-"
      }
    },
    {
      "cell_type": "code",
      "source": [
        "#iniciamos el descriptivo\n",
        "descripcion=dataTraining.describe(include=\"all\")\n",
        "print(descripcion)\n",
        "print(dataTraining.columns)"
      ],
      "metadata": {
        "colab": {
          "base_uri": "https://localhost:8080/"
        },
        "id": "tQ41S3k4Bg0d",
        "outputId": "038097e8-eb54-43a0-cae5-19d955151352"
      },
      "execution_count": 7,
      "outputs": [
        {
          "output_type": "stream",
          "name": "stdout",
          "text": [
            "               year                title  \\\n",
            "count   7895.000000                 7895   \n",
            "unique          NaN                 7729   \n",
            "top             NaN  Alice in Wonderland   \n",
            "freq            NaN                    3   \n",
            "mean    1989.726409                  NaN   \n",
            "std       22.660717                  NaN   \n",
            "min     1894.000000                  NaN   \n",
            "25%     1980.000000                  NaN   \n",
            "50%     1997.000000                  NaN   \n",
            "75%     2007.000000                  NaN   \n",
            "max     2015.000000                  NaN   \n",
            "\n",
            "                                                     plot     genres  \\\n",
            "count                                                7895       7895   \n",
            "unique                                               7894       1336   \n",
            "top     an evil genius in a flying fortress is trying ...  ['Drama']   \n",
            "freq                                                    2        429   \n",
            "mean                                                  NaN        NaN   \n",
            "std                                                   NaN        NaN   \n",
            "min                                                   NaN        NaN   \n",
            "25%                                                   NaN        NaN   \n",
            "50%                                                   NaN        NaN   \n",
            "75%                                                   NaN        NaN   \n",
            "max                                                   NaN        NaN   \n",
            "\n",
            "             rating  \n",
            "count   7895.000000  \n",
            "unique          NaN  \n",
            "top             NaN  \n",
            "freq            NaN  \n",
            "mean       6.402812  \n",
            "std        1.078260  \n",
            "min        1.200000  \n",
            "25%        5.800000  \n",
            "50%        6.500000  \n",
            "75%        7.200000  \n",
            "max        9.300000  \n",
            "Index(['year', 'title', 'plot', 'genres', 'rating'], dtype='object')\n"
          ]
        }
      ]
    },
    {
      "cell_type": "code",
      "source": [
        "# validamos nuevamente la cantidad de filas y columnas\n",
        "dataTraining.shape"
      ],
      "metadata": {
        "colab": {
          "base_uri": "https://localhost:8080/"
        },
        "id": "3Nvy_9sZDnxd",
        "outputId": "b36d52a0-0e17-433e-b670-2224fc3279a2"
      },
      "execution_count": 8,
      "outputs": [
        {
          "output_type": "execute_result",
          "data": {
            "text/plain": [
              "(7895, 5)"
            ]
          },
          "metadata": {},
          "execution_count": 8
        }
      ]
    },
    {
      "cell_type": "code",
      "source": [
        "# validando valores nulos\n",
        "dataTraining.isna().any()"
      ],
      "metadata": {
        "colab": {
          "base_uri": "https://localhost:8080/"
        },
        "id": "KhDpHXAeDq6w",
        "outputId": "f7fdc4ac-86ab-4370-e89e-809d473716fe"
      },
      "execution_count": 9,
      "outputs": [
        {
          "output_type": "execute_result",
          "data": {
            "text/plain": [
              "year      False\n",
              "title     False\n",
              "plot      False\n",
              "genres    False\n",
              "rating    False\n",
              "dtype: bool"
            ]
          },
          "metadata": {},
          "execution_count": 9
        }
      ]
    },
    {
      "cell_type": "code",
      "source": [
        "# tipos de datos\n",
        "columnas_texto=[]\n",
        "lista_columnas_df=dataTraining.columns\n",
        "print(\"numero de columnas=\",len(lista_columnas_df))\n",
        "for i in range(len(lista_columnas_df)):\n",
        "    print(\"columna\",i,\": \",dataTraining.iloc[1,i],\"tipo:\",type(dataTraining.iloc[1,i]))"
      ],
      "metadata": {
        "colab": {
          "base_uri": "https://localhost:8080/"
        },
        "id": "VXmPaO64Es8y",
        "outputId": "07f59da5-c2ef-4deb-9dc5-a09c23fc3ee8"
      },
      "execution_count": 10,
      "outputs": [
        {
          "output_type": "stream",
          "name": "stdout",
          "text": [
            "numero de columnas= 5\n",
            "columna 0 :  2008 tipo: <class 'numpy.int64'>\n",
            "columna 1 :  How to Be a Serial Killer tipo: <class 'str'>\n",
            "columna 2 :  a serial killer decides to teach the secrets of his satisfying career to a video store clerk . tipo: <class 'str'>\n",
            "columna 3 :  ['Comedy', 'Crime', 'Horror'] tipo: <class 'str'>\n",
            "columna 4 :  5.6 tipo: <class 'numpy.float64'>\n"
          ]
        }
      ]
    },
    {
      "cell_type": "code",
      "source": [
        "# entendiendo la clasificacion year\n",
        "dataTraining.year.describe()"
      ],
      "metadata": {
        "colab": {
          "base_uri": "https://localhost:8080/"
        },
        "id": "QQo4iGE3EkpB",
        "outputId": "41de710a-9fc5-477f-e068-86339de5f3d5"
      },
      "execution_count": 11,
      "outputs": [
        {
          "output_type": "execute_result",
          "data": {
            "text/plain": [
              "count    7895.000000\n",
              "mean     1989.726409\n",
              "std        22.660717\n",
              "min      1894.000000\n",
              "25%      1980.000000\n",
              "50%      1997.000000\n",
              "75%      2007.000000\n",
              "max      2015.000000\n",
              "Name: year, dtype: float64"
            ]
          },
          "metadata": {},
          "execution_count": 11
        }
      ]
    },
    {
      "cell_type": "code",
      "source": [
        "# Entendemos por el campo year\n",
        "sns.set(style=\"whitegrid\")\n",
        "sns.catplot(x=\"year\", kind=\"count\", palette=\"ch:.25\", data=dataTraining, height = 8, aspect = 3)"
      ],
      "metadata": {
        "colab": {
          "base_uri": "https://localhost:8080/",
          "height": 416
        },
        "id": "JVh77NHdE848",
        "outputId": "45712801-a6a1-49e1-afe7-762e077adf8e"
      },
      "execution_count": 12,
      "outputs": [
        {
          "output_type": "execute_result",
          "data": {
            "text/plain": [
              "<seaborn.axisgrid.FacetGrid at 0x7f92389aaad0>"
            ]
          },
          "metadata": {},
          "execution_count": 12
        },
        {
          "output_type": "display_data",
          "data": {
            "text/plain": [
              "<Figure size 2400x800 with 1 Axes>"
            ],
            "image/png": "[encoded data removed]"
          },
          "metadata": {}
        }
      ]
    },
    {
      "cell_type": "code",
      "source": [
        "# entendiendo la clasificacion genero\n",
        "dataTraining.genres.describe()"
      ],
      "metadata": {
        "colab": {
          "base_uri": "https://localhost:8080/"
        },
        "id": "wFallBlyTILV",
        "outputId": "d45a3163-9b4c-43f1-e0a4-ec46a2e6bf42"
      },
      "execution_count": 13,
      "outputs": [
        {
          "output_type": "execute_result",
          "data": {
            "text/plain": [
              "count          7895\n",
              "unique         1336\n",
              "top       ['Drama']\n",
              "freq            429\n",
              "Name: genres, dtype: object"
            ]
          },
          "metadata": {},
          "execution_count": 13
        }
      ]
    },
    {
      "cell_type": "code",
      "source": [
        "# entendiendo la clasificacion rating\n",
        "dataTraining.rating.describe()"
      ],
      "metadata": {
        "colab": {
          "base_uri": "https://localhost:8080/"
        },
        "id": "8rIUPWg3TPuF",
        "outputId": "f1e8503e-97a2-4d74-a83b-255870d129c0"
      },
      "execution_count": 14,
      "outputs": [
        {
          "output_type": "execute_result",
          "data": {
            "text/plain": [
              "count    7895.000000\n",
              "mean        6.402812\n",
              "std         1.078260\n",
              "min         1.200000\n",
              "25%         5.800000\n",
              "50%         6.500000\n",
              "75%         7.200000\n",
              "max         9.300000\n",
              "Name: rating, dtype: float64"
            ]
          },
          "metadata": {},
          "execution_count": 14
        }
      ]
    },
    {
      "cell_type": "code",
      "source": [
        "# Entendemos por el campo rating\n",
        "sns.set(style=\"whitegrid\")\n",
        "sns.catplot(x=\"rating\", kind=\"count\", palette=\"ch:.25\", data=dataTraining, height = 8, aspect = 3)"
      ],
      "metadata": {
        "colab": {
          "base_uri": "https://localhost:8080/",
          "height": 416
        },
        "id": "CuY8mCrYTXoE",
        "outputId": "b669a0f7-fba2-40db-de13-582897bc1cde"
      },
      "execution_count": 15,
      "outputs": [
        {
          "output_type": "execute_result",
          "data": {
            "text/plain": [
              "<seaborn.axisgrid.FacetGrid at 0x7f92389abac0>"
            ]
          },
          "metadata": {},
          "execution_count": 15
        },
        {
          "output_type": "display_data",
          "data": {
            "text/plain": [
              "<Figure size 2400x800 with 1 Axes>"
            ],
            "image/png": "[encoded data removed]"
          },
          "metadata": {}
        }
      ]
    },
    {
      "cell_type": "markdown",
      "source": [
        "## 2.0 Modelo"
      ],
      "metadata": {
        "id": "ER42TURkRJN-"
      }
    },
    {
      "cell_type": "markdown",
      "source": [
        "###2.1 Count Vectorizer"
      ],
      "metadata": {
        "id": "vvH57c3WPNQh"
      }
    },
    {
      "cell_type": "code",
      "execution_count": 16,
      "metadata": {
        "colab": {
          "base_uri": "https://localhost:8080/"
        },
        "id": "levmNryU_uUp",
        "outputId": "bf9a783e-db0d-4f52-d95a-5cb9d32f598b"
      },
      "outputs": [
        {
          "output_type": "execute_result",
          "data": {
            "text/plain": [
              "(7895, 38672)"
            ]
          },
          "metadata": {},
          "execution_count": 16
        }
      ],
      "source": [
        "# Definición de variables predictoras (X)\n",
        "vect = CountVectorizer()\n",
        "Xdtm = vect.fit_transform(dataTraining['plot'])\n",
        "Xdtm.shape"
      ]
    },
    {
      "cell_type": "code",
      "execution_count": 17,
      "metadata": {
        "id": "nyZs2zhH_uUp"
      },
      "outputs": [],
      "source": [
        "# Definición de variable de interés (y)\n",
        "dataTraining['genres'] = dataTraining['genres'].map(lambda x: eval(x))\n",
        "le = MultiLabelBinarizer()\n",
        "ygenres = le.fit_transform(dataTraining['genres'])"
      ]
    },
    {
      "cell_type": "code",
      "execution_count": 18,
      "metadata": {
        "id": "TSPiO3QM_uUq"
      },
      "outputs": [],
      "source": [
        "# Separación de variables predictoras (X) y variable de interés (y) en set de entrenamiento y test usandola función train_test_split\n",
        "Xtrain, Xtest, ytrain, ytest = train_test_split(Xdtm, ygenres, test_size=0.33, random_state=42)"
      ]
    },
    {
      "cell_type": "code",
      "execution_count": 19,
      "metadata": {
        "colab": {
          "base_uri": "https://localhost:8080/",
          "height": 115
        },
        "id": "vylvIyLA_uUq",
        "outputId": "9d3497f7-6b2b-4de1-81e8-d5096734cf43"
      },
      "outputs": [
        {
          "output_type": "execute_result",
          "data": {
            "text/plain": [
              "OneVsRestClassifier(estimator=RandomForestClassifier(max_depth=10,\n",
              "                                                     n_estimators=800,\n",
              "                                                     n_jobs=-1,\n",
              "                                                     random_state=42))"
            ],
            "text/html": [
              "<style>#sk-container-id-1 {color: black;background-color: white;}#sk-container-id-1 pre{padding: 0;}#sk-container-id-1 div.sk-toggleable {background-color: white;}#sk-container-id-1 label.sk-toggleable__label {cursor: pointer;display: block;width: 100%;margin-bottom: 0;padding: 0.3em;box-sizing: border-box;text-align: center;}#sk-container-id-1 label.sk-toggleable__label-arrow:before {content: \"▸\";float: left;margin-right: 0.25em;color: #696969;}#sk-container-id-1 label.sk-toggleable__label-arrow:hover:before {color: black;}#sk-container-id-1 div.sk-estimator:hover label.sk-toggleable__label-arrow:before {color: black;}#sk-container-id-1 div.sk-toggleable__content {max-height: 0;max-width: 0;overflow: hidden;text-align: left;background-color: #f0f8ff;}#sk-container-id-1 div.sk-toggleable__content pre {margin: 0.2em;color: black;border-radius: 0.25em;background-color: #f0f8ff;}#sk-container-id-1 input.sk-toggleable__control:checked~div.sk-toggleable__content {max-height: 200px;max-width: 100%;overflow: auto;}#sk-container-id-1 input.sk-toggleable__control:checked~label.sk-toggleable__label-arrow:before {content: \"▾\";}#sk-container-id-1 div.sk-estimator input.sk-toggleable__control:checked~label.sk-toggleable__label {background-color: #d4ebff;}#sk-container-id-1 div.sk-label input.sk-toggleable__control:checked~label.sk-toggleable__label {background-color: #d4ebff;}#sk-container-id-1 input.sk-hidden--visually {border: 0;clip: rect(1px 1px 1px 1px);clip: rect(1px, 1px, 1px, 1px);height: 1px;margin: -1px;overflow: hidden;padding: 0;position: absolute;width: 1px;}#sk-container-id-1 div.sk-estimator {font-family: monospace;background-color: #f0f8ff;border: 1px dotted black;border-radius: 0.25em;box-sizing: border-box;margin-bottom: 0.5em;}#sk-container-id-1 div.sk-estimator:hover {background-color: #d4ebff;}#sk-container-id-1 div.sk-parallel-item::after {content: \"\";width: 100%;border-bottom: 1px solid gray;flex-grow: 1;}#sk-container-id-1 div.sk-label:hover label.sk-toggleable__label {background-color: #d4ebff;}#sk-container-id-1 div.sk-serial::before {content: \"\";position: absolute;border-left: 1px solid gray;box-sizing: border-box;top: 0;bottom: 0;left: 50%;z-index: 0;}#sk-container-id-1 div.sk-serial {display: flex;flex-direction: column;align-items: center;background-color: white;padding-right: 0.2em;padding-left: 0.2em;position: relative;}#sk-container-id-1 div.sk-item {position: relative;z-index: 1;}#sk-container-id-1 div.sk-parallel {display: flex;align-items: stretch;justify-content: center;background-color: white;position: relative;}#sk-container-id-1 div.sk-item::before, #sk-container-id-1 div.sk-parallel-item::before {content: \"\";position: absolute;border-left: 1px solid gray;box-sizing: border-box;top: 0;bottom: 0;left: 50%;z-index: -1;}#sk-container-id-1 div.sk-parallel-item {display: flex;flex-direction: column;z-index: 1;position: relative;background-color: white;}#sk-container-id-1 div.sk-parallel-item:first-child::after {align-self: flex-end;width: 50%;}#sk-container-id-1 div.sk-parallel-item:last-child::after {align-self: flex-start;width: 50%;}#sk-container-id-1 div.sk-parallel-item:only-child::after {width: 0;}#sk-container-id-1 div.sk-dashed-wrapped {border: 1px dashed gray;margin: 0 0.4em 0.5em 0.4em;box-sizing: border-box;padding-bottom: 0.4em;background-color: white;}#sk-container-id-1 div.sk-label label {font-family: monospace;font-weight: bold;display: inline-block;line-height: 1.2em;}#sk-container-id-1 div.sk-label-container {text-align: center;}#sk-container-id-1 div.sk-container {/* jupyter's `normalize.less` sets `[hidden] { display: none; }` but bootstrap.min.css set `[hidden] { display: none !important; }` so we also need the `!important` here to be able to override the default hidden behavior on the sphinx rendered scikit-learn.org. See: https://github.com/scikit-learn/scikit-learn/issues/21755 */display: inline-block !important;position: relative;}#sk-container-id-1 div.sk-text-repr-fallback {display: none;}</style><div id=\"sk-container-id-1\" class=\"sk-top-container\"><div class=\"sk-text-repr-fallback\"><pre>OneVsRestClassifier(estimator=RandomForestClassifier(max_depth=10,\n",
              "                                                     n_estimators=800,\n",
              "                                                     n_jobs=-1,\n",
              "                                                     random_state=42))</pre><b>In a Jupyter environment, please rerun this cell to show the HTML representation or trust the notebook. <br />On GitHub, the HTML representation is unable to render, please try loading this page with nbviewer.org.</b></div><div class=\"sk-container\" hidden><div class=\"sk-item sk-dashed-wrapped\"><div class=\"sk-label-container\"><div class=\"sk-label sk-toggleable\"><input class=\"sk-toggleable__control sk-hidden--visually\" id=\"sk-estimator-id-1\" type=\"checkbox\" ><label for=\"sk-estimator-id-1\" class=\"sk-toggleable__label sk-toggleable__label-arrow\">OneVsRestClassifier</label><div class=\"sk-toggleable__content\"><pre>OneVsRestClassifier(estimator=RandomForestClassifier(max_depth=10,\n",
              "                                                     n_estimators=800,\n",
              "                                                     n_jobs=-1,\n",
              "                                                     random_state=42))</pre></div></div></div><div class=\"sk-parallel\"><div class=\"sk-parallel-item\"><div class=\"sk-item\"><div class=\"sk-label-container\"><div class=\"sk-label sk-toggleable\"><input class=\"sk-toggleable__control sk-hidden--visually\" id=\"sk-estimator-id-2\" type=\"checkbox\" ><label for=\"sk-estimator-id-2\" class=\"sk-toggleable__label sk-toggleable__label-arrow\">estimator: RandomForestClassifier</label><div class=\"sk-toggleable__content\"><pre>RandomForestClassifier(max_depth=10, n_estimators=800, n_jobs=-1,\n",
              "                       random_state=42)</pre></div></div></div><div class=\"sk-serial\"><div class=\"sk-item\"><div class=\"sk-estimator sk-toggleable\"><input class=\"sk-toggleable__control sk-hidden--visually\" id=\"sk-estimator-id-3\" type=\"checkbox\" ><label for=\"sk-estimator-id-3\" class=\"sk-toggleable__label sk-toggleable__label-arrow\">RandomForestClassifier</label><div class=\"sk-toggleable__content\"><pre>RandomForestClassifier(max_depth=10, n_estimators=800, n_jobs=-1,\n",
              "                       random_state=42)</pre></div></div></div></div></div></div></div></div></div></div>"
            ]
          },
          "metadata": {},
          "execution_count": 19
        }
      ],
      "source": [
        "# Definición y entrenamiento\n",
        "Cvclf = OneVsRestClassifier(RandomForestClassifier(n_jobs=-1, n_estimators=800, max_depth=10, random_state=42))\n",
        "Cvclf.fit(Xtrain, ytrain)"
      ]
    },
    {
      "cell_type": "code",
      "execution_count": 20,
      "metadata": {
        "id": "FfHRL844_uUr"
      },
      "outputs": [],
      "source": [
        "# Predicción del modelo de clasificación\n",
        "yPredCv= Cvclf.predict_proba(Xtest)"
      ]
    },
    {
      "cell_type": "code",
      "source": [
        "# Impresión del desempeño del modelo\n",
        "roc_auc_score(ytest, yPredCv, average='macro')"
      ],
      "metadata": {
        "colab": {
          "base_uri": "https://localhost:8080/"
        },
        "id": "3heQiVi4fOLz",
        "outputId": "766b1e97-70a8-433c-a7dc-ca56d75a7fb0"
      },
      "execution_count": 21,
      "outputs": [
        {
          "output_type": "execute_result",
          "data": {
            "text/plain": [
              "0.8241351928574887"
            ]
          },
          "metadata": {},
          "execution_count": 21
        }
      ]
    },
    {
      "cell_type": "code",
      "execution_count": 22,
      "metadata": {
        "id": "bTxKl1VT_uUs"
      },
      "outputs": [],
      "source": [
        "# transformación variables predictoras X del conjunto de test\n",
        "XtestdtmCv = vect.transform(dataTesting['plot'])\n",
        "\n",
        "cols = ['p_Action', 'p_Adventure', 'p_Animation', 'p_Biography', 'p_Comedy', 'p_Crime', 'p_Documentary', 'p_Drama', 'p_Family',\n",
        "        'p_Fantasy', 'p_Film-Noir', 'p_History', 'p_Horror', 'p_Music', 'p_Musical', 'p_Mystery', 'p_News', 'p_Romance',\n",
        "        'p_Sci-Fi', 'p_Short', 'p_Sport', 'p_Thriller', 'p_War', 'p_Western']\n"
      ]
    },
    {
      "cell_type": "code",
      "source": [
        "# Predicción del conjunto de test\n",
        "ypredtestgenresCv = Cvclf.predict_proba(XtestdtmCv)"
      ],
      "metadata": {
        "id": "aNusyasNM6j8"
      },
      "execution_count": 23,
      "outputs": []
    },
    {
      "cell_type": "code",
      "source": [
        "ypredtestgenresCv"
      ],
      "metadata": {
        "colab": {
          "base_uri": "https://localhost:8080/"
        },
        "id": "V8B_kMnWO-lu",
        "outputId": "294fe861-2871-4829-9fc8-071d68037c77"
      },
      "execution_count": 24,
      "outputs": [
        {
          "output_type": "execute_result",
          "data": {
            "text/plain": [
              "array([[0.14435617, 0.11457215, 0.02494683, ..., 0.22966276, 0.03472732,\n",
              "        0.0219217 ],\n",
              "       [0.15541211, 0.11205394, 0.02504526, ..., 0.23024411, 0.03670971,\n",
              "        0.02204567],\n",
              "       [0.15684437, 0.11664907, 0.027155  , ..., 0.34447172, 0.04889846,\n",
              "        0.02295368],\n",
              "       ...,\n",
              "       [0.14607157, 0.11429514, 0.02646912, ..., 0.23822533, 0.03471748,\n",
              "        0.0247161 ],\n",
              "       [0.18733672, 0.23442649, 0.02732827, ..., 0.24020819, 0.03960128,\n",
              "        0.02502904],\n",
              "       [0.16483457, 0.11224111, 0.02560728, ..., 0.28474681, 0.03483387,\n",
              "        0.02193073]])"
            ]
          },
          "metadata": {},
          "execution_count": 24
        }
      ]
    },
    {
      "cell_type": "code",
      "execution_count": 25,
      "metadata": {
        "colab": {
          "base_uri": "https://localhost:8080/",
          "height": 314
        },
        "id": "ctFpooBE_uUs",
        "outputId": "c7ffb76c-a5af-4caa-e224-4b7e8e41737b"
      },
      "outputs": [
        {
          "output_type": "execute_result",
          "data": {
            "text/plain": [
              "   p_Action  p_Adventure  p_Animation  p_Biography  p_Comedy   p_Crime  \\\n",
              "1  0.144356     0.114572     0.024947     0.039487  0.384947  0.156192   \n",
              "4  0.155412     0.112054     0.025045     0.042255  0.369656  0.184586   \n",
              "5  0.156844     0.116649     0.027155     0.058096  0.324924  0.313387   \n",
              "6  0.167501     0.120664     0.025559     0.044168  0.364175  0.168945   \n",
              "7  0.171315     0.127452     0.025325     0.040678  0.359205  0.198558   \n",
              "\n",
              "   p_Documentary   p_Drama  p_Family  p_Fantasy  ...  p_Musical  p_Mystery  \\\n",
              "1       0.045723  0.503891  0.071668   0.087622  ...   0.027559   0.083167   \n",
              "4       0.058971  0.502116  0.073272   0.076225  ...   0.027010   0.080755   \n",
              "5       0.036120  0.585934  0.079569   0.082876  ...   0.032424   0.157812   \n",
              "6       0.040068  0.545248  0.073570   0.077129  ...   0.030562   0.096451   \n",
              "7       0.039153  0.479972  0.077650   0.091890  ...   0.028787   0.115536   \n",
              "\n",
              "     p_News  p_Romance  p_Sci-Fi   p_Short   p_Sport  p_Thriller     p_War  \\\n",
              "1  0.000221   0.264584  0.074728  0.008376  0.024574    0.229663  0.034727   \n",
              "4  0.000550   0.192216  0.073567  0.010024  0.023871    0.230244  0.036710   \n",
              "5  0.000225   0.290255  0.085200  0.006964  0.026715    0.344472  0.048898   \n",
              "6  0.000137   0.253121  0.092973  0.007208  0.026892    0.288965  0.045674   \n",
              "7  0.001368   0.222947  0.157575  0.008357  0.023823    0.255420  0.034687   \n",
              "\n",
              "   p_Western  \n",
              "1   0.021922  \n",
              "4   0.022046  \n",
              "5   0.022954  \n",
              "6   0.021878  \n",
              "7   0.023065  \n",
              "\n",
              "[5 rows x 24 columns]"
            ],
            "text/html": [
              "\n",
              "  <div id=\"df-ddfd6f99-a959-4b42-9836-1490a20283fe\">\n",
              "    <div class=\"colab-df-container\">\n",
              "      <div>\n",
              "<style scoped>\n",
              "    .dataframe tbody tr th:only-of-type {\n",
              "        vertical-align: middle;\n",
              "    }\n",
              "\n",
              "    .dataframe tbody tr th {\n",
              "        vertical-align: top;\n",
              "    }\n",
              "\n",
              "    .dataframe thead th {\n",
              "        text-align: right;\n",
              "    }\n",
              "</style>\n",
              "<table border=\"1\" class=\"dataframe\">\n",
              "  <thead>\n",
              "    <tr style=\"text-align: right;\">\n",
              "      <th></th>\n",
              "      <th>p_Action</th>\n",
              "      <th>p_Adventure</th>\n",
              "      <th>p_Animation</th>\n",
              "      <th>p_Biography</th>\n",
              "      <th>p_Comedy</th>\n",
              "      <th>p_Crime</th>\n",
              "      <th>p_Documentary</th>\n",
              "      <th>p_Drama</th>\n",
              "      <th>p_Family</th>\n",
              "      <th>p_Fantasy</th>\n",
              "      <th>...</th>\n",
              "      <th>p_Musical</th>\n",
              "      <th>p_Mystery</th>\n",
              "      <th>p_News</th>\n",
              "      <th>p_Romance</th>\n",
              "      <th>p_Sci-Fi</th>\n",
              "      <th>p_Short</th>\n",
              "      <th>p_Sport</th>\n",
              "      <th>p_Thriller</th>\n",
              "      <th>p_War</th>\n",
              "      <th>p_Western</th>\n",
              "    </tr>\n",
              "  </thead>\n",
              "  <tbody>\n",
              "    <tr>\n",
              "      <th>1</th>\n",
              "      <td>0.144356</td>\n",
              "      <td>0.114572</td>\n",
              "      <td>0.024947</td>\n",
              "      <td>0.039487</td>\n",
              "      <td>0.384947</td>\n",
              "      <td>0.156192</td>\n",
              "      <td>0.045723</td>\n",
              "      <td>0.503891</td>\n",
              "      <td>0.071668</td>\n",
              "      <td>0.087622</td>\n",
              "      <td>...</td>\n",
              "      <td>0.027559</td>\n",
              "      <td>0.083167</td>\n",
              "      <td>0.000221</td>\n",
              "      <td>0.264584</td>\n",
              "      <td>0.074728</td>\n",
              "      <td>0.008376</td>\n",
              "      <td>0.024574</td>\n",
              "      <td>0.229663</td>\n",
              "      <td>0.034727</td>\n",
              "      <td>0.021922</td>\n",
              "    </tr>\n",
              "    <tr>\n",
              "      <th>4</th>\n",
              "      <td>0.155412</td>\n",
              "      <td>0.112054</td>\n",
              "      <td>0.025045</td>\n",
              "      <td>0.042255</td>\n",
              "      <td>0.369656</td>\n",
              "      <td>0.184586</td>\n",
              "      <td>0.058971</td>\n",
              "      <td>0.502116</td>\n",
              "      <td>0.073272</td>\n",
              "      <td>0.076225</td>\n",
              "      <td>...</td>\n",
              "      <td>0.027010</td>\n",
              "      <td>0.080755</td>\n",
              "      <td>0.000550</td>\n",
              "      <td>0.192216</td>\n",
              "      <td>0.073567</td>\n",
              "      <td>0.010024</td>\n",
              "      <td>0.023871</td>\n",
              "      <td>0.230244</td>\n",
              "      <td>0.036710</td>\n",
              "      <td>0.022046</td>\n",
              "    </tr>\n",
              "    <tr>\n",
              "      <th>5</th>\n",
              "      <td>0.156844</td>\n",
              "      <td>0.116649</td>\n",
              "      <td>0.027155</td>\n",
              "      <td>0.058096</td>\n",
              "      <td>0.324924</td>\n",
              "      <td>0.313387</td>\n",
              "      <td>0.036120</td>\n",
              "      <td>0.585934</td>\n",
              "      <td>0.079569</td>\n",
              "      <td>0.082876</td>\n",
              "      <td>...</td>\n",
              "      <td>0.032424</td>\n",
              "      <td>0.157812</td>\n",
              "      <td>0.000225</td>\n",
              "      <td>0.290255</td>\n",
              "      <td>0.085200</td>\n",
              "      <td>0.006964</td>\n",
              "      <td>0.026715</td>\n",
              "      <td>0.344472</td>\n",
              "      <td>0.048898</td>\n",
              "      <td>0.022954</td>\n",
              "    </tr>\n",
              "    <tr>\n",
              "      <th>6</th>\n",
              "      <td>0.167501</td>\n",
              "      <td>0.120664</td>\n",
              "      <td>0.025559</td>\n",
              "      <td>0.044168</td>\n",
              "      <td>0.364175</td>\n",
              "      <td>0.168945</td>\n",
              "      <td>0.040068</td>\n",
              "      <td>0.545248</td>\n",
              "      <td>0.073570</td>\n",
              "      <td>0.077129</td>\n",
              "      <td>...</td>\n",
              "      <td>0.030562</td>\n",
              "      <td>0.096451</td>\n",
              "      <td>0.000137</td>\n",
              "      <td>0.253121</td>\n",
              "      <td>0.092973</td>\n",
              "      <td>0.007208</td>\n",
              "      <td>0.026892</td>\n",
              "      <td>0.288965</td>\n",
              "      <td>0.045674</td>\n",
              "      <td>0.021878</td>\n",
              "    </tr>\n",
              "    <tr>\n",
              "      <th>7</th>\n",
              "      <td>0.171315</td>\n",
              "      <td>0.127452</td>\n",
              "      <td>0.025325</td>\n",
              "      <td>0.040678</td>\n",
              "      <td>0.359205</td>\n",
              "      <td>0.198558</td>\n",
              "      <td>0.039153</td>\n",
              "      <td>0.479972</td>\n",
              "      <td>0.077650</td>\n",
              "      <td>0.091890</td>\n",
              "      <td>...</td>\n",
              "      <td>0.028787</td>\n",
              "      <td>0.115536</td>\n",
              "      <td>0.001368</td>\n",
              "      <td>0.222947</td>\n",
              "      <td>0.157575</td>\n",
              "      <td>0.008357</td>\n",
              "      <td>0.023823</td>\n",
              "      <td>0.255420</td>\n",
              "      <td>0.034687</td>\n",
              "      <td>0.023065</td>\n",
              "    </tr>\n",
              "  </tbody>\n",
              "</table>\n",
              "<p>5 rows × 24 columns</p>\n",
              "</div>\n",
              "      <button class=\"colab-df-convert\" onclick=\"convertToInteractive('df-ddfd6f99-a959-4b42-9836-1490a20283fe')\"\n",
              "              title=\"Convert this dataframe to an interactive table.\"\n",
              "              style=\"display:none;\">\n",
              "        \n",
              "  <svg xmlns=\"http://www.w3.org/2000/svg\" height=\"24px\"viewBox=\"0 0 24 24\"\n",
              "       width=\"24px\">\n",
              "    <path d=\"M0 0h24v24H0V0z\" fill=\"none\"/>\n",
              "    <path d=\"M18.56 5.44l.94 2.06.94-2.06 2.06-.94-2.06-.94-.94-2.06-.94 2.06-2.06.94zm-11 1L8.5 8.5l.94-2.06 2.06-.94-2.06-.94L8.5 2.5l-.94 2.06-2.06.94zm10 10l.94 2.06.94-2.06 2.06-.94-2.06-.94-.94-2.06-.94 2.06-2.06.94z\"/><path d=\"M17.41 7.96l-1.37-1.37c-.4-.4-.92-.59-1.43-.59-.52 0-1.04.2-1.43.59L10.3 9.45l-7.72 7.72c-.78.78-.78 2.05 0 2.83L4 21.41c.39.39.9.59 1.41.59.51 0 1.02-.2 1.41-.59l7.78-7.78 2.81-2.81c.8-.78.8-2.07 0-2.86zM5.41 20L4 18.59l7.72-7.72 1.47 1.35L5.41 20z\"/>\n",
              "  </svg>\n",
              "      </button>\n",
              "      \n",
              "  <style>\n",
              "    .colab-df-container {\n",
              "      display:flex;\n",
              "      flex-wrap:wrap;\n",
              "      gap: 12px;\n",
              "    }\n",
              "\n",
              "    .colab-df-convert {\n",
              "      background-color: #E8F0FE;\n",
              "      border: none;\n",
              "      border-radius: 50%;\n",
              "      cursor: pointer;\n",
              "      display: none;\n",
              "      fill: #1967D2;\n",
              "      height: 32px;\n",
              "      padding: 0 0 0 0;\n",
              "      width: 32px;\n",
              "    }\n",
              "\n",
              "    .colab-df-convert:hover {\n",
              "      background-color: #E2EBFA;\n",
              "      box-shadow: 0px 1px 2px rgba(60, 64, 67, 0.3), 0px 1px 3px 1px rgba(60, 64, 67, 0.15);\n",
              "      fill: #174EA6;\n",
              "    }\n",
              "\n",
              "    [theme=dark] .colab-df-convert {\n",
              "      background-color: #3B4455;\n",
              "      fill: #D2E3FC;\n",
              "    }\n",
              "\n",
              "    [theme=dark] .colab-df-convert:hover {\n",
              "      background-color: #434B5C;\n",
              "      box-shadow: 0px 1px 3px 1px rgba(0, 0, 0, 0.15);\n",
              "      filter: drop-shadow(0px 1px 2px rgba(0, 0, 0, 0.3));\n",
              "      fill: #FFFFFF;\n",
              "    }\n",
              "  </style>\n",
              "\n",
              "      <script>\n",
              "        const buttonEl =\n",
              "          document.querySelector('#df-ddfd6f99-a959-4b42-9836-1490a20283fe button.colab-df-convert');\n",
              "        buttonEl.style.display =\n",
              "          google.colab.kernel.accessAllowed ? 'block' : 'none';\n",
              "\n",
              "        async function convertToInteractive(key) {\n",
              "          const element = document.querySelector('#df-ddfd6f99-a959-4b42-9836-1490a20283fe');\n",
              "          const dataTable =\n",
              "            await google.colab.kernel.invokeFunction('convertToInteractive',\n",
              "                                                     [key], {});\n",
              "          if (!dataTable) return;\n",
              "\n",
              "          const docLinkHtml = 'Like what you see? Visit the ' +\n",
              "            '<a target=\"_blank\" href=https://colab.research.google.com/notebooks/data_table.ipynb>data table notebook</a>'\n",
              "            + ' to learn more about interactive tables.';\n",
              "          element.innerHTML = '';\n",
              "          dataTable['output_type'] = 'display_data';\n",
              "          await google.colab.output.renderOutput(dataTable, element);\n",
              "          const docLink = document.createElement('div');\n",
              "          docLink.innerHTML = docLinkHtml;\n",
              "          element.appendChild(docLink);\n",
              "        }\n",
              "      </script>\n",
              "    </div>\n",
              "  </div>\n",
              "  "
            ]
          },
          "metadata": {},
          "execution_count": 25
        }
      ],
      "source": [
        "# Guardar predicciones en formato exigido en la competencia de kaggle\n",
        "res = pd.DataFrame(ypredtestgenresCv, index=dataTesting.index, columns=cols)\n",
        "res.to_csv('pred_genres_text_RF.csv', index_label='ID')\n",
        "res.head()"
      ]
    },
    {
      "cell_type": "markdown",
      "source": [
        "### 2.2 TdiFVectorizer"
      ],
      "metadata": {
        "id": "rOnuk9ywPbr6"
      }
    },
    {
      "cell_type": "code",
      "source": [
        "# Celda 4\n",
        "TfiVec = TfidfVectorizer()"
      ],
      "metadata": {
        "id": "lkxp5p3vPk3s"
      },
      "execution_count": 26,
      "outputs": []
    },
    {
      "cell_type": "code",
      "source": [
        "XtfiVec = TfiVec.fit_transform(dataTraining['plot'])\n",
        "XtfiVec.shape"
      ],
      "metadata": {
        "colab": {
          "base_uri": "https://localhost:8080/"
        },
        "id": "gvxPTEwdPxFO",
        "outputId": "b78774f3-be29-4aef-d7c1-4bff5f3435bf"
      },
      "execution_count": 27,
      "outputs": [
        {
          "output_type": "execute_result",
          "data": {
            "text/plain": [
              "(7895, 38672)"
            ]
          },
          "metadata": {},
          "execution_count": 27
        }
      ]
    },
    {
      "cell_type": "code",
      "source": [
        "# Separación de variables predictoras (X) y variable de interés (y) en set de entrenamiento y test usandola función train_test_split\n",
        "Xtraintf, Xtesttf, ytraintf, ytesttf = train_test_split(XtfiVec, ygenres, test_size=0.33, random_state=42)"
      ],
      "metadata": {
        "id": "HvwSF5jJSKmR"
      },
      "execution_count": 28,
      "outputs": []
    },
    {
      "cell_type": "code",
      "source": [
        "# Creamos el objeto de clasificacion\n",
        "tfclf = OneVsRestClassifier(RandomForestClassifier(n_jobs=-1, n_estimators=800, max_depth=10, random_state=42))"
      ],
      "metadata": {
        "id": "Uxadkr1tToiC"
      },
      "execution_count": 29,
      "outputs": []
    },
    {
      "cell_type": "code",
      "source": [
        "#Entrenamos el modelo\n",
        "tfclf.fit(Xtraintf, ytraintf)"
      ],
      "metadata": {
        "colab": {
          "base_uri": "https://localhost:8080/",
          "height": 115
        },
        "id": "tffwMBBxUetw",
        "outputId": "4b3deb02-cd04-447a-b872-d52bf102c0b9"
      },
      "execution_count": 30,
      "outputs": [
        {
          "output_type": "execute_result",
          "data": {
            "text/plain": [
              "OneVsRestClassifier(estimator=RandomForestClassifier(max_depth=10,\n",
              "                                                     n_estimators=800,\n",
              "                                                     n_jobs=-1,\n",
              "                                                     random_state=42))"
            ],
            "text/html": [
              "<style>#sk-container-id-2 {color: black;background-color: white;}#sk-container-id-2 pre{padding: 0;}#sk-container-id-2 div.sk-toggleable {background-color: white;}#sk-container-id-2 label.sk-toggleable__label {cursor: pointer;display: block;width: 100%;margin-bottom: 0;padding: 0.3em;box-sizing: border-box;text-align: center;}#sk-container-id-2 label.sk-toggleable__label-arrow:before {content: \"▸\";float: left;margin-right: 0.25em;color: #696969;}#sk-container-id-2 label.sk-toggleable__label-arrow:hover:before {color: black;}#sk-container-id-2 div.sk-estimator:hover label.sk-toggleable__label-arrow:before {color: black;}#sk-container-id-2 div.sk-toggleable__content {max-height: 0;max-width: 0;overflow: hidden;text-align: left;background-color: #f0f8ff;}#sk-container-id-2 div.sk-toggleable__content pre {margin: 0.2em;color: black;border-radius: 0.25em;background-color: #f0f8ff;}#sk-container-id-2 input.sk-toggleable__control:checked~div.sk-toggleable__content {max-height: 200px;max-width: 100%;overflow: auto;}#sk-container-id-2 input.sk-toggleable__control:checked~label.sk-toggleable__label-arrow:before {content: \"▾\";}#sk-container-id-2 div.sk-estimator input.sk-toggleable__control:checked~label.sk-toggleable__label {background-color: #d4ebff;}#sk-container-id-2 div.sk-label input.sk-toggleable__control:checked~label.sk-toggleable__label {background-color: #d4ebff;}#sk-container-id-2 input.sk-hidden--visually {border: 0;clip: rect(1px 1px 1px 1px);clip: rect(1px, 1px, 1px, 1px);height: 1px;margin: -1px;overflow: hidden;padding: 0;position: absolute;width: 1px;}#sk-container-id-2 div.sk-estimator {font-family: monospace;background-color: #f0f8ff;border: 1px dotted black;border-radius: 0.25em;box-sizing: border-box;margin-bottom: 0.5em;}#sk-container-id-2 div.sk-estimator:hover {background-color: #d4ebff;}#sk-container-id-2 div.sk-parallel-item::after {content: \"\";width: 100%;border-bottom: 1px solid gray;flex-grow: 1;}#sk-container-id-2 div.sk-label:hover label.sk-toggleable__label {background-color: #d4ebff;}#sk-container-id-2 div.sk-serial::before {content: \"\";position: absolute;border-left: 1px solid gray;box-sizing: border-box;top: 0;bottom: 0;left: 50%;z-index: 0;}#sk-container-id-2 div.sk-serial {display: flex;flex-direction: column;align-items: center;background-color: white;padding-right: 0.2em;padding-left: 0.2em;position: relative;}#sk-container-id-2 div.sk-item {position: relative;z-index: 1;}#sk-container-id-2 div.sk-parallel {display: flex;align-items: stretch;justify-content: center;background-color: white;position: relative;}#sk-container-id-2 div.sk-item::before, #sk-container-id-2 div.sk-parallel-item::before {content: \"\";position: absolute;border-left: 1px solid gray;box-sizing: border-box;top: 0;bottom: 0;left: 50%;z-index: -1;}#sk-container-id-2 div.sk-parallel-item {display: flex;flex-direction: column;z-index: 1;position: relative;background-color: white;}#sk-container-id-2 div.sk-parallel-item:first-child::after {align-self: flex-end;width: 50%;}#sk-container-id-2 div.sk-parallel-item:last-child::after {align-self: flex-start;width: 50%;}#sk-container-id-2 div.sk-parallel-item:only-child::after {width: 0;}#sk-container-id-2 div.sk-dashed-wrapped {border: 1px dashed gray;margin: 0 0.4em 0.5em 0.4em;box-sizing: border-box;padding-bottom: 0.4em;background-color: white;}#sk-container-id-2 div.sk-label label {font-family: monospace;font-weight: bold;display: inline-block;line-height: 1.2em;}#sk-container-id-2 div.sk-label-container {text-align: center;}#sk-container-id-2 div.sk-container {/* jupyter's `normalize.less` sets `[hidden] { display: none; }` but bootstrap.min.css set `[hidden] { display: none !important; }` so we also need the `!important` here to be able to override the default hidden behavior on the sphinx rendered scikit-learn.org. See: https://github.com/scikit-learn/scikit-learn/issues/21755 */display: inline-block !important;position: relative;}#sk-container-id-2 div.sk-text-repr-fallback {display: none;}</style><div id=\"sk-container-id-2\" class=\"sk-top-container\"><div class=\"sk-text-repr-fallback\"><pre>OneVsRestClassifier(estimator=RandomForestClassifier(max_depth=10,\n",
              "                                                     n_estimators=800,\n",
              "                                                     n_jobs=-1,\n",
              "                                                     random_state=42))</pre><b>In a Jupyter environment, please rerun this cell to show the HTML representation or trust the notebook. <br />On GitHub, the HTML representation is unable to render, please try loading this page with nbviewer.org.</b></div><div class=\"sk-container\" hidden><div class=\"sk-item sk-dashed-wrapped\"><div class=\"sk-label-container\"><div class=\"sk-label sk-toggleable\"><input class=\"sk-toggleable__control sk-hidden--visually\" id=\"sk-estimator-id-4\" type=\"checkbox\" ><label for=\"sk-estimator-id-4\" class=\"sk-toggleable__label sk-toggleable__label-arrow\">OneVsRestClassifier</label><div class=\"sk-toggleable__content\"><pre>OneVsRestClassifier(estimator=RandomForestClassifier(max_depth=10,\n",
              "                                                     n_estimators=800,\n",
              "                                                     n_jobs=-1,\n",
              "                                                     random_state=42))</pre></div></div></div><div class=\"sk-parallel\"><div class=\"sk-parallel-item\"><div class=\"sk-item\"><div class=\"sk-label-container\"><div class=\"sk-label sk-toggleable\"><input class=\"sk-toggleable__control sk-hidden--visually\" id=\"sk-estimator-id-5\" type=\"checkbox\" ><label for=\"sk-estimator-id-5\" class=\"sk-toggleable__label sk-toggleable__label-arrow\">estimator: RandomForestClassifier</label><div class=\"sk-toggleable__content\"><pre>RandomForestClassifier(max_depth=10, n_estimators=800, n_jobs=-1,\n",
              "                       random_state=42)</pre></div></div></div><div class=\"sk-serial\"><div class=\"sk-item\"><div class=\"sk-estimator sk-toggleable\"><input class=\"sk-toggleable__control sk-hidden--visually\" id=\"sk-estimator-id-6\" type=\"checkbox\" ><label for=\"sk-estimator-id-6\" class=\"sk-toggleable__label sk-toggleable__label-arrow\">RandomForestClassifier</label><div class=\"sk-toggleable__content\"><pre>RandomForestClassifier(max_depth=10, n_estimators=800, n_jobs=-1,\n",
              "                       random_state=42)</pre></div></div></div></div></div></div></div></div></div></div>"
            ]
          },
          "metadata": {},
          "execution_count": 30
        }
      ]
    },
    {
      "cell_type": "code",
      "source": [
        "# Predicción del modelo de clasificación\n",
        "yPredtf= tfclf.predict(Xtesttf)"
      ],
      "metadata": {
        "id": "2ZylRdYyU2SO"
      },
      "execution_count": 31,
      "outputs": []
    },
    {
      "cell_type": "code",
      "source": [
        "# Impresión del desempeño del modelo\n",
        "roc_auc_score(ytesttf, yPredtf, average='macro')"
      ],
      "metadata": {
        "colab": {
          "base_uri": "https://localhost:8080/"
        },
        "id": "fFPifVAvU7vd",
        "outputId": "777c1c3d-5ce6-46fd-937d-4ee39a366f00"
      },
      "execution_count": 32,
      "outputs": [
        {
          "output_type": "execute_result",
          "data": {
            "text/plain": [
              "0.5074285155591061"
            ]
          },
          "metadata": {},
          "execution_count": 32
        }
      ]
    },
    {
      "cell_type": "code",
      "source": [
        "# transformación variables predictoras X del conjunto de test\n",
        "Xtestdtmtf = TfiVec.transform(dataTesting['plot'])\n",
        "\n",
        "cols = ['p_Action', 'p_Adventure', 'p_Animation', 'p_Biography', 'p_Comedy', 'p_Crime', 'p_Documentary', 'p_Drama', 'p_Family',\n",
        "        'p_Fantasy', 'p_Film-Noir', 'p_History', 'p_Horror', 'p_Music', 'p_Musical', 'p_Mystery', 'p_News', 'p_Romance',\n",
        "        'p_Sci-Fi', 'p_Short', 'p_Sport', 'p_Thriller', 'p_War', 'p_Western']"
      ],
      "metadata": {
        "id": "XU04jAp2VeGI"
      },
      "execution_count": 33,
      "outputs": []
    },
    {
      "cell_type": "code",
      "source": [
        "# Predicción del conjunto de test\n",
        "ypredtestgenrestf = Cvclf.predict_proba(Xtestdtmtf)"
      ],
      "metadata": {
        "id": "xdkbc7OZVl5G"
      },
      "execution_count": 34,
      "outputs": []
    },
    {
      "cell_type": "code",
      "source": [
        "# Guardar predicciones en formato exigido en la competencia de kaggle\n",
        "restf = pd.DataFrame(ypredtestgenrestf , index=dataTesting.index, columns=cols)\n",
        "restf.to_csv('pred_genres_text_tf.csv', index_label='ID')\n",
        "restf.head()"
      ],
      "metadata": {
        "colab": {
          "base_uri": "https://localhost:8080/",
          "height": 314
        },
        "id": "sCRZvjLUVvbP",
        "outputId": "023c877a-60e2-4c56-83d4-6aeb77bd8398"
      },
      "execution_count": 35,
      "outputs": [
        {
          "output_type": "execute_result",
          "data": {
            "text/plain": [
              "   p_Action  p_Adventure  p_Animation  p_Biography  p_Comedy   p_Crime  \\\n",
              "1  0.144198      0.11004     0.024854     0.039993  0.375697  0.155804   \n",
              "4  0.144198      0.11004     0.024854     0.039993  0.375697  0.155804   \n",
              "5  0.144198      0.11004     0.024854     0.039993  0.375697  0.155804   \n",
              "6  0.144198      0.11004     0.024854     0.039993  0.375697  0.155804   \n",
              "7  0.144198      0.11004     0.024854     0.039993  0.375697  0.155804   \n",
              "\n",
              "   p_Documentary   p_Drama  p_Family  p_Fantasy  ...  p_Musical  p_Mystery  \\\n",
              "1       0.066697  0.477817   0.07162   0.075665  ...    0.02701   0.080755   \n",
              "4       0.066697  0.477817   0.07162   0.075665  ...    0.02701   0.080755   \n",
              "5       0.066697  0.477817   0.07162   0.075665  ...    0.02701   0.080755   \n",
              "6       0.066697  0.477817   0.07162   0.075665  ...    0.02701   0.080755   \n",
              "7       0.066697  0.477817   0.07162   0.075665  ...    0.02701   0.080755   \n",
              "\n",
              "     p_News  p_Romance  p_Sci-Fi   p_Short   p_Sport  p_Thriller     p_War  \\\n",
              "1  0.000711   0.193063  0.073567  0.009438  0.023858      0.2272  0.034834   \n",
              "4  0.000711   0.193063  0.073567  0.009438  0.023858      0.2272  0.034834   \n",
              "5  0.000711   0.193063  0.073567  0.009438  0.023858      0.2272  0.034834   \n",
              "6  0.000711   0.193063  0.073567  0.009438  0.023858      0.2272  0.034834   \n",
              "7  0.000711   0.193063  0.073567  0.009438  0.023858      0.2272  0.034834   \n",
              "\n",
              "   p_Western  \n",
              "1   0.021931  \n",
              "4   0.021931  \n",
              "5   0.021931  \n",
              "6   0.021931  \n",
              "7   0.021931  \n",
              "\n",
              "[5 rows x 24 columns]"
            ],
            "text/html": [
              "\n",
              "  <div id=\"df-7b35ca06-5517-4b8f-b543-a8e4c7c56bf7\">\n",
              "    <div class=\"colab-df-container\">\n",
              "      <div>\n",
              "<style scoped>\n",
              "    .dataframe tbody tr th:only-of-type {\n",
              "        vertical-align: middle;\n",
              "    }\n",
              "\n",
              "    .dataframe tbody tr th {\n",
              "        vertical-align: top;\n",
              "    }\n",
              "\n",
              "    .dataframe thead th {\n",
              "        text-align: right;\n",
              "    }\n",
              "</style>\n",
              "<table border=\"1\" class=\"dataframe\">\n",
              "  <thead>\n",
              "    <tr style=\"text-align: right;\">\n",
              "      <th></th>\n",
              "      <th>p_Action</th>\n",
              "      <th>p_Adventure</th>\n",
              "      <th>p_Animation</th>\n",
              "      <th>p_Biography</th>\n",
              "      <th>p_Comedy</th>\n",
              "      <th>p_Crime</th>\n",
              "      <th>p_Documentary</th>\n",
              "      <th>p_Drama</th>\n",
              "      <th>p_Family</th>\n",
              "      <th>p_Fantasy</th>\n",
              "      <th>...</th>\n",
              "      <th>p_Musical</th>\n",
              "      <th>p_Mystery</th>\n",
              "      <th>p_News</th>\n",
              "      <th>p_Romance</th>\n",
              "      <th>p_Sci-Fi</th>\n",
              "      <th>p_Short</th>\n",
              "      <th>p_Sport</th>\n",
              "      <th>p_Thriller</th>\n",
              "      <th>p_War</th>\n",
              "      <th>p_Western</th>\n",
              "    </tr>\n",
              "  </thead>\n",
              "  <tbody>\n",
              "    <tr>\n",
              "      <th>1</th>\n",
              "      <td>0.144198</td>\n",
              "      <td>0.11004</td>\n",
              "      <td>0.024854</td>\n",
              "      <td>0.039993</td>\n",
              "      <td>0.375697</td>\n",
              "      <td>0.155804</td>\n",
              "      <td>0.066697</td>\n",
              "      <td>0.477817</td>\n",
              "      <td>0.07162</td>\n",
              "      <td>0.075665</td>\n",
              "      <td>...</td>\n",
              "      <td>0.02701</td>\n",
              "      <td>0.080755</td>\n",
              "      <td>0.000711</td>\n",
              "      <td>0.193063</td>\n",
              "      <td>0.073567</td>\n",
              "      <td>0.009438</td>\n",
              "      <td>0.023858</td>\n",
              "      <td>0.2272</td>\n",
              "      <td>0.034834</td>\n",
              "      <td>0.021931</td>\n",
              "    </tr>\n",
              "    <tr>\n",
              "      <th>4</th>\n",
              "      <td>0.144198</td>\n",
              "      <td>0.11004</td>\n",
              "      <td>0.024854</td>\n",
              "      <td>0.039993</td>\n",
              "      <td>0.375697</td>\n",
              "      <td>0.155804</td>\n",
              "      <td>0.066697</td>\n",
              "      <td>0.477817</td>\n",
              "      <td>0.07162</td>\n",
              "      <td>0.075665</td>\n",
              "      <td>...</td>\n",
              "      <td>0.02701</td>\n",
              "      <td>0.080755</td>\n",
              "      <td>0.000711</td>\n",
              "      <td>0.193063</td>\n",
              "      <td>0.073567</td>\n",
              "      <td>0.009438</td>\n",
              "      <td>0.023858</td>\n",
              "      <td>0.2272</td>\n",
              "      <td>0.034834</td>\n",
              "      <td>0.021931</td>\n",
              "    </tr>\n",
              "    <tr>\n",
              "      <th>5</th>\n",
              "      <td>0.144198</td>\n",
              "      <td>0.11004</td>\n",
              "      <td>0.024854</td>\n",
              "      <td>0.039993</td>\n",
              "      <td>0.375697</td>\n",
              "      <td>0.155804</td>\n",
              "      <td>0.066697</td>\n",
              "      <td>0.477817</td>\n",
              "      <td>0.07162</td>\n",
              "      <td>0.075665</td>\n",
              "      <td>...</td>\n",
              "      <td>0.02701</td>\n",
              "      <td>0.080755</td>\n",
              "      <td>0.000711</td>\n",
              "      <td>0.193063</td>\n",
              "      <td>0.073567</td>\n",
              "      <td>0.009438</td>\n",
              "      <td>0.023858</td>\n",
              "      <td>0.2272</td>\n",
              "      <td>0.034834</td>\n",
              "      <td>0.021931</td>\n",
              "    </tr>\n",
              "    <tr>\n",
              "      <th>6</th>\n",
              "      <td>0.144198</td>\n",
              "      <td>0.11004</td>\n",
              "      <td>0.024854</td>\n",
              "      <td>0.039993</td>\n",
              "      <td>0.375697</td>\n",
              "      <td>0.155804</td>\n",
              "      <td>0.066697</td>\n",
              "      <td>0.477817</td>\n",
              "      <td>0.07162</td>\n",
              "      <td>0.075665</td>\n",
              "      <td>...</td>\n",
              "      <td>0.02701</td>\n",
              "      <td>0.080755</td>\n",
              "      <td>0.000711</td>\n",
              "      <td>0.193063</td>\n",
              "      <td>0.073567</td>\n",
              "      <td>0.009438</td>\n",
              "      <td>0.023858</td>\n",
              "      <td>0.2272</td>\n",
              "      <td>0.034834</td>\n",
              "      <td>0.021931</td>\n",
              "    </tr>\n",
              "    <tr>\n",
              "      <th>7</th>\n",
              "      <td>0.144198</td>\n",
              "      <td>0.11004</td>\n",
              "      <td>0.024854</td>\n",
              "      <td>0.039993</td>\n",
              "      <td>0.375697</td>\n",
              "      <td>0.155804</td>\n",
              "      <td>0.066697</td>\n",
              "      <td>0.477817</td>\n",
              "      <td>0.07162</td>\n",
              "      <td>0.075665</td>\n",
              "      <td>...</td>\n",
              "      <td>0.02701</td>\n",
              "      <td>0.080755</td>\n",
              "      <td>0.000711</td>\n",
              "      <td>0.193063</td>\n",
              "      <td>0.073567</td>\n",
              "      <td>0.009438</td>\n",
              "      <td>0.023858</td>\n",
              "      <td>0.2272</td>\n",
              "      <td>0.034834</td>\n",
              "      <td>0.021931</td>\n",
              "    </tr>\n",
              "  </tbody>\n",
              "</table>\n",
              "<p>5 rows × 24 columns</p>\n",
              "</div>\n",
              "      <button class=\"colab-df-convert\" onclick=\"convertToInteractive('df-7b35ca06-5517-4b8f-b543-a8e4c7c56bf7')\"\n",
              "              title=\"Convert this dataframe to an interactive table.\"\n",
              "              style=\"display:none;\">\n",
              "        \n",
              "  <svg xmlns=\"http://www.w3.org/2000/svg\" height=\"24px\"viewBox=\"0 0 24 24\"\n",
              "       width=\"24px\">\n",
              "    <path d=\"M0 0h24v24H0V0z\" fill=\"none\"/>\n",
              "    <path d=\"M18.56 5.44l.94 2.06.94-2.06 2.06-.94-2.06-.94-.94-2.06-.94 2.06-2.06.94zm-11 1L8.5 8.5l.94-2.06 2.06-.94-2.06-.94L8.5 2.5l-.94 2.06-2.06.94zm10 10l.94 2.06.94-2.06 2.06-.94-2.06-.94-.94-2.06-.94 2.06-2.06.94z\"/><path d=\"M17.41 7.96l-1.37-1.37c-.4-.4-.92-.59-1.43-.59-.52 0-1.04.2-1.43.59L10.3 9.45l-7.72 7.72c-.78.78-.78 2.05 0 2.83L4 21.41c.39.39.9.59 1.41.59.51 0 1.02-.2 1.41-.59l7.78-7.78 2.81-2.81c.8-.78.8-2.07 0-2.86zM5.41 20L4 18.59l7.72-7.72 1.47 1.35L5.41 20z\"/>\n",
              "  </svg>\n",
              "      </button>\n",
              "      \n",
              "  <style>\n",
              "    .colab-df-container {\n",
              "      display:flex;\n",
              "      flex-wrap:wrap;\n",
              "      gap: 12px;\n",
              "    }\n",
              "\n",
              "    .colab-df-convert {\n",
              "      background-color: #E8F0FE;\n",
              "      border: none;\n",
              "      border-radius: 50%;\n",
              "      cursor: pointer;\n",
              "      display: none;\n",
              "      fill: #1967D2;\n",
              "      height: 32px;\n",
              "      padding: 0 0 0 0;\n",
              "      width: 32px;\n",
              "    }\n",
              "\n",
              "    .colab-df-convert:hover {\n",
              "      background-color: #E2EBFA;\n",
              "      box-shadow: 0px 1px 2px rgba(60, 64, 67, 0.3), 0px 1px 3px 1px rgba(60, 64, 67, 0.15);\n",
              "      fill: #174EA6;\n",
              "    }\n",
              "\n",
              "    [theme=dark] .colab-df-convert {\n",
              "      background-color: #3B4455;\n",
              "      fill: #D2E3FC;\n",
              "    }\n",
              "\n",
              "    [theme=dark] .colab-df-convert:hover {\n",
              "      background-color: #434B5C;\n",
              "      box-shadow: 0px 1px 3px 1px rgba(0, 0, 0, 0.15);\n",
              "      filter: drop-shadow(0px 1px 2px rgba(0, 0, 0, 0.3));\n",
              "      fill: #FFFFFF;\n",
              "    }\n",
              "  </style>\n",
              "\n",
              "      <script>\n",
              "        const buttonEl =\n",
              "          document.querySelector('#df-7b35ca06-5517-4b8f-b543-a8e4c7c56bf7 button.colab-df-convert');\n",
              "        buttonEl.style.display =\n",
              "          google.colab.kernel.accessAllowed ? 'block' : 'none';\n",
              "\n",
              "        async function convertToInteractive(key) {\n",
              "          const element = document.querySelector('#df-7b35ca06-5517-4b8f-b543-a8e4c7c56bf7');\n",
              "          const dataTable =\n",
              "            await google.colab.kernel.invokeFunction('convertToInteractive',\n",
              "                                                     [key], {});\n",
              "          if (!dataTable) return;\n",
              "\n",
              "          const docLinkHtml = 'Like what you see? Visit the ' +\n",
              "            '<a target=\"_blank\" href=https://colab.research.google.com/notebooks/data_table.ipynb>data table notebook</a>'\n",
              "            + ' to learn more about interactive tables.';\n",
              "          element.innerHTML = '';\n",
              "          dataTable['output_type'] = 'display_data';\n",
              "          await google.colab.output.renderOutput(dataTable, element);\n",
              "          const docLink = document.createElement('div');\n",
              "          docLink.innerHTML = docLinkHtml;\n",
              "          element.appendChild(docLink);\n",
              "        }\n",
              "      </script>\n",
              "    </div>\n",
              "  </div>\n",
              "  "
            ]
          },
          "metadata": {},
          "execution_count": 35
        }
      ]
    },
    {
      "cell_type": "markdown",
      "source": [
        "### 2.3 Redes Neuronales"
      ],
      "metadata": {
        "id": "oppRRXP8ewUo"
      }
    },
    {
      "cell_type": "code",
      "source": [
        "# Definición de variables predictoras (X)\n",
        "vectRN = CountVectorizer()\n",
        "XRN = vect.fit_transform(dataTraining['plot'])\n",
        "XRN.reshape"
      ],
      "metadata": {
        "colab": {
          "base_uri": "https://localhost:8080/"
        },
        "id": "QfRHYdXcJWlE",
        "outputId": "7eabfb6d-1469-413f-e3cb-a05886e840c9"
      },
      "execution_count": 36,
      "outputs": [
        {
          "output_type": "execute_result",
          "data": {
            "text/plain": [
              "<bound method spmatrix.reshape of <7895x38672 sparse matrix of type '<class 'numpy.int64'>'\n",
              "\twith 634551 stored elements in Compressed Sparse Row format>>"
            ]
          },
          "metadata": {},
          "execution_count": 36
        }
      ]
    },
    {
      "cell_type": "code",
      "source": [
        "# Definición de variable de interés (y)\n",
        "yRN = le.fit_transform(dataTraining['genres'])"
      ],
      "metadata": {
        "id": "lljp0ZHEJcUh"
      },
      "execution_count": 37,
      "outputs": []
    },
    {
      "cell_type": "code",
      "source": [
        "XtrainRN, XtestRN, ytrainRN, ytestRN = train_test_split(XRN, yRN, test_size=0.33, random_state=42)"
      ],
      "metadata": {
        "id": "jKictAin5bui"
      },
      "execution_count": 38,
      "outputs": []
    },
    {
      "cell_type": "code",
      "source": [
        "model = Sequential()\n",
        "\n",
        "#Defining layers of the model\n",
        "#model.add(Flatten(input_shape=(64,)))\n",
        "model.add(Dense(2056, activation='relu', input_shape = (38672,)))\n",
        "#model.add(LSTM(2056, activation='relu', input_shape = (38672,)))\n",
        "model.add(Dropout(0.5))\n",
        "#model.add(Dense(24, activation='softmax')) \n",
        "model.add(Dense(24, activation='sigmoid')) \n",
        "model.compile(optimizer='adam', loss='categorical_crossentropy', metrics=['accuracy'])\n",
        "model.summary()"
      ],
      "metadata": {
        "colab": {
          "base_uri": "https://localhost:8080/"
        },
        "id": "FaWX1DZwezgA",
        "outputId": "30401415-f4e8-430d-b44b-47b1621ef2f0"
      },
      "execution_count": 39,
      "outputs": [
        {
          "output_type": "stream",
          "name": "stdout",
          "text": [
            "Model: \"sequential\"\n",
            "_________________________________________________________________\n",
            " Layer (type)                Output Shape              Param #   \n",
            "=================================================================\n",
            " dense (Dense)               (None, 2056)              79511688  \n",
            "                                                                 \n",
            " dropout (Dropout)           (None, 2056)              0         \n",
            "                                                                 \n",
            " dense_1 (Dense)             (None, 24)                49368     \n",
            "                                                                 \n",
            "=================================================================\n",
            "Total params: 79,561,056\n",
            "Trainable params: 79,561,056\n",
            "Non-trainable params: 0\n",
            "_________________________________________________________________\n"
          ]
        }
      ]
    },
    {
      "cell_type": "code",
      "source": [
        "# fitting the Neural Network on the training data\n",
        "hist = model.fit(XtrainRN.toarray(),ytrainRN, validation_data=(XtrainRN.toarray(),ytrainRN), \n",
        "          batch_size=128, epochs=100, verbose=1,\n",
        "          callbacks=[PlotLossesKeras()])"
      ],
      "metadata": {
        "colab": {
          "base_uri": "https://localhost:8080/"
        },
        "id": "hcWnxQ7Y3SyK",
        "outputId": "2aea4088-67a3-4d82-fffc-4d947ad98717"
      },
      "execution_count": null,
      "outputs": [
        {
          "output_type": "stream",
          "name": "stdout",
          "text": [
            "Epoch 1/100\n"
          ]
        }
      ]
    },
    {
      "cell_type": "code",
      "source": [
        "yPredRN=model.predict(XtestRN.toarray()) "
      ],
      "metadata": {
        "colab": {
          "base_uri": "https://localhost:8080/"
        },
        "id": "3po-Lu7tKrs5",
        "outputId": "8da395c8-fa2a-4fd5-e008-67cc32f4b38e"
      },
      "execution_count": 43,
      "outputs": [
        {
          "output_type": "stream",
          "name": "stdout",
          "text": [
            "82/82 [==============================] - 19s 231ms/step\n"
          ]
        }
      ]
    },
    {
      "cell_type": "code",
      "source": [
        "# Impresión del desempeño del modelo\n",
        "roc_auc_score(ytestRN, yPredRN, average='macro')"
      ],
      "metadata": {
        "colab": {
          "base_uri": "https://localhost:8080/"
        },
        "id": "RkyLGMaXL4vW",
        "outputId": "61105fdd-0496-4e48-a425-6445a9798aef"
      },
      "execution_count": 44,
      "outputs": [
        {
          "output_type": "execute_result",
          "data": {
            "text/plain": [
              "0.5001331041518203"
            ]
          },
          "metadata": {},
          "execution_count": 44
        }
      ]
    }
  ],
  "metadata": {
    "kernelspec": {
      "display_name": "Python 3",
      "language": "python",
      "name": "python3"
    },
    "language_info": {
      "codemirror_mode": {
        "name": "ipython",
        "version": 3
      },
      "file_extension": ".py",
      "mimetype": "text/x-python",
      "name": "python",
      "nbconvert_exporter": "python",
      "pygments_lexer": "ipython3",
      "version": "3.7.3"
    },
    "colab": {
      "provenance": []
    }
  },
  "nbformat": 4,
  "nbformat_minor": 0
}